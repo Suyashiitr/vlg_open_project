{
 "cells": [
  {
   "cell_type": "markdown",
   "id": "eb2b5cb0",
   "metadata": {},
   "source": [
    "# AI GENERATED IMAGE DETECTION (CNN)"
   ]
  },
  {
   "cell_type": "markdown",
   "id": "57a56d20",
   "metadata": {},
   "source": [
    "# Importing Libraries"
   ]
  },
  {
   "cell_type": "code",
   "execution_count": 33,
   "id": "a9939e9b",
   "metadata": {},
   "outputs": [],
   "source": [
    "import numpy as np\n",
    "import pandas as pd\n",
    "import torch\n",
    "import torchvision\n",
    "import matplotlib.pyplot as plt\n",
    "import torch.nn as nn\n",
    "from torch import optim\n",
    "from tqdm import tqdm\n",
    "import torch.nn.functional as F\n",
    "import torchvision.transforms\n",
    "from sklearn.model_selection import train_test_split\n",
    "from skimage.transform import resize"
   ]
  },
  {
   "cell_type": "code",
   "execution_count": 34,
   "id": "2cc9869e",
   "metadata": {},
   "outputs": [],
   "source": [
    "# Loading train dataset"
   ]
  },
  {
   "cell_type": "code",
   "execution_count": 35,
   "id": "80d59a24",
   "metadata": {},
   "outputs": [],
   "source": [
    "loc = '/Users/suyashk11/Desktop/VLG_Project/train.csv'"
   ]
  },
  {
   "cell_type": "code",
   "execution_count": 36,
   "id": "35b2cc3f",
   "metadata": {},
   "outputs": [
    {
     "data": {
      "text/html": [
       "<div>\n",
       "<style scoped>\n",
       "    .dataframe tbody tr th:only-of-type {\n",
       "        vertical-align: middle;\n",
       "    }\n",
       "\n",
       "    .dataframe tbody tr th {\n",
       "        vertical-align: top;\n",
       "    }\n",
       "\n",
       "    .dataframe thead th {\n",
       "        text-align: right;\n",
       "    }\n",
       "</style>\n",
       "<table border=\"1\" class=\"dataframe\">\n",
       "  <thead>\n",
       "    <tr style=\"text-align: right;\">\n",
       "      <th></th>\n",
       "      <th>labels</th>\n",
       "      <th>f_0</th>\n",
       "      <th>f_1</th>\n",
       "      <th>f_2</th>\n",
       "      <th>f_3</th>\n",
       "      <th>f_4</th>\n",
       "      <th>f_5</th>\n",
       "      <th>f_6</th>\n",
       "      <th>f_7</th>\n",
       "      <th>f_8</th>\n",
       "      <th>...</th>\n",
       "      <th>f_1190</th>\n",
       "      <th>f_1191</th>\n",
       "      <th>f_1192</th>\n",
       "      <th>f_1193</th>\n",
       "      <th>f_1194</th>\n",
       "      <th>f_1195</th>\n",
       "      <th>f_1196</th>\n",
       "      <th>f_1197</th>\n",
       "      <th>f_1198</th>\n",
       "      <th>f_1199</th>\n",
       "    </tr>\n",
       "  </thead>\n",
       "  <tbody>\n",
       "    <tr>\n",
       "      <th>0</th>\n",
       "      <td>0</td>\n",
       "      <td>-2.033875</td>\n",
       "      <td>0.978446</td>\n",
       "      <td>-0.142131</td>\n",
       "      <td>-0.177117</td>\n",
       "      <td>-1.470684</td>\n",
       "      <td>1.669562</td>\n",
       "      <td>-0.196530</td>\n",
       "      <td>-0.125239</td>\n",
       "      <td>-0.452284</td>\n",
       "      <td>...</td>\n",
       "      <td>-1.111266</td>\n",
       "      <td>0.716084</td>\n",
       "      <td>0.060039</td>\n",
       "      <td>0.301279</td>\n",
       "      <td>-1.174846</td>\n",
       "      <td>-1.076498</td>\n",
       "      <td>-0.069452</td>\n",
       "      <td>-0.604012</td>\n",
       "      <td>-2.179176</td>\n",
       "      <td>0.558003</td>\n",
       "    </tr>\n",
       "    <tr>\n",
       "      <th>1</th>\n",
       "      <td>1</td>\n",
       "      <td>-0.348835</td>\n",
       "      <td>0.294815</td>\n",
       "      <td>-0.557577</td>\n",
       "      <td>-2.020773</td>\n",
       "      <td>-1.234715</td>\n",
       "      <td>1.633930</td>\n",
       "      <td>-1.680658</td>\n",
       "      <td>-0.358146</td>\n",
       "      <td>0.166122</td>\n",
       "      <td>...</td>\n",
       "      <td>0.735240</td>\n",
       "      <td>0.829781</td>\n",
       "      <td>1.521941</td>\n",
       "      <td>1.347946</td>\n",
       "      <td>0.754505</td>\n",
       "      <td>1.330642</td>\n",
       "      <td>-0.754453</td>\n",
       "      <td>0.582956</td>\n",
       "      <td>0.252671</td>\n",
       "      <td>1.495870</td>\n",
       "    </tr>\n",
       "    <tr>\n",
       "      <th>2</th>\n",
       "      <td>1</td>\n",
       "      <td>0.113248</td>\n",
       "      <td>-0.607726</td>\n",
       "      <td>-0.947791</td>\n",
       "      <td>0.830851</td>\n",
       "      <td>0.998291</td>\n",
       "      <td>0.498321</td>\n",
       "      <td>-1.493958</td>\n",
       "      <td>0.789572</td>\n",
       "      <td>-1.311018</td>\n",
       "      <td>...</td>\n",
       "      <td>0.104698</td>\n",
       "      <td>0.616189</td>\n",
       "      <td>-1.035953</td>\n",
       "      <td>2.111387</td>\n",
       "      <td>-0.984415</td>\n",
       "      <td>1.148076</td>\n",
       "      <td>-1.433554</td>\n",
       "      <td>0.243372</td>\n",
       "      <td>0.170083</td>\n",
       "      <td>1.274795</td>\n",
       "    </tr>\n",
       "    <tr>\n",
       "      <th>3</th>\n",
       "      <td>0</td>\n",
       "      <td>1.223321</td>\n",
       "      <td>-0.479048</td>\n",
       "      <td>-1.925789</td>\n",
       "      <td>1.680377</td>\n",
       "      <td>0.021840</td>\n",
       "      <td>-1.453307</td>\n",
       "      <td>0.605559</td>\n",
       "      <td>-0.019024</td>\n",
       "      <td>1.065448</td>\n",
       "      <td>...</td>\n",
       "      <td>0.360237</td>\n",
       "      <td>-1.957863</td>\n",
       "      <td>-0.123384</td>\n",
       "      <td>1.505329</td>\n",
       "      <td>0.660290</td>\n",
       "      <td>-1.769443</td>\n",
       "      <td>-0.547756</td>\n",
       "      <td>-0.568122</td>\n",
       "      <td>0.244645</td>\n",
       "      <td>0.982116</td>\n",
       "    </tr>\n",
       "    <tr>\n",
       "      <th>4</th>\n",
       "      <td>0</td>\n",
       "      <td>0.160109</td>\n",
       "      <td>0.422684</td>\n",
       "      <td>-0.308029</td>\n",
       "      <td>0.227744</td>\n",
       "      <td>0.432854</td>\n",
       "      <td>0.608348</td>\n",
       "      <td>0.193832</td>\n",
       "      <td>1.035091</td>\n",
       "      <td>-0.538868</td>\n",
       "      <td>...</td>\n",
       "      <td>0.416629</td>\n",
       "      <td>1.441766</td>\n",
       "      <td>0.212572</td>\n",
       "      <td>-0.994721</td>\n",
       "      <td>1.143999</td>\n",
       "      <td>-2.166923</td>\n",
       "      <td>-1.199248</td>\n",
       "      <td>-1.028636</td>\n",
       "      <td>0.752791</td>\n",
       "      <td>0.317169</td>\n",
       "    </tr>\n",
       "    <tr>\n",
       "      <th>...</th>\n",
       "      <td>...</td>\n",
       "      <td>...</td>\n",
       "      <td>...</td>\n",
       "      <td>...</td>\n",
       "      <td>...</td>\n",
       "      <td>...</td>\n",
       "      <td>...</td>\n",
       "      <td>...</td>\n",
       "      <td>...</td>\n",
       "      <td>...</td>\n",
       "      <td>...</td>\n",
       "      <td>...</td>\n",
       "      <td>...</td>\n",
       "      <td>...</td>\n",
       "      <td>...</td>\n",
       "      <td>...</td>\n",
       "      <td>...</td>\n",
       "      <td>...</td>\n",
       "      <td>...</td>\n",
       "      <td>...</td>\n",
       "      <td>...</td>\n",
       "    </tr>\n",
       "    <tr>\n",
       "      <th>5245</th>\n",
       "      <td>0</td>\n",
       "      <td>1.157565</td>\n",
       "      <td>-0.142219</td>\n",
       "      <td>1.043992</td>\n",
       "      <td>1.144946</td>\n",
       "      <td>1.195423</td>\n",
       "      <td>0.248978</td>\n",
       "      <td>-1.505100</td>\n",
       "      <td>-0.874137</td>\n",
       "      <td>-1.782724</td>\n",
       "      <td>...</td>\n",
       "      <td>1.195423</td>\n",
       "      <td>-0.255793</td>\n",
       "      <td>-0.154838</td>\n",
       "      <td>0.413029</td>\n",
       "      <td>-0.482939</td>\n",
       "      <td>-1.277953</td>\n",
       "      <td>-0.445082</td>\n",
       "      <td>1.195423</td>\n",
       "      <td>-0.924614</td>\n",
       "      <td>-0.432462</td>\n",
       "    </tr>\n",
       "    <tr>\n",
       "      <th>5246</th>\n",
       "      <td>0</td>\n",
       "      <td>1.424709</td>\n",
       "      <td>0.235910</td>\n",
       "      <td>1.356778</td>\n",
       "      <td>1.368099</td>\n",
       "      <td>-0.318862</td>\n",
       "      <td>1.039765</td>\n",
       "      <td>-0.986854</td>\n",
       "      <td>-0.330184</td>\n",
       "      <td>-1.383120</td>\n",
       "      <td>...</td>\n",
       "      <td>1.424709</td>\n",
       "      <td>-1.066107</td>\n",
       "      <td>0.881258</td>\n",
       "      <td>-0.488691</td>\n",
       "      <td>-1.281223</td>\n",
       "      <td>-1.213291</td>\n",
       "      <td>0.122692</td>\n",
       "      <td>1.175627</td>\n",
       "      <td>-1.145360</td>\n",
       "      <td>0.451026</td>\n",
       "    </tr>\n",
       "    <tr>\n",
       "      <th>5247</th>\n",
       "      <td>1</td>\n",
       "      <td>-0.375687</td>\n",
       "      <td>1.524455</td>\n",
       "      <td>0.012514</td>\n",
       "      <td>-0.007917</td>\n",
       "      <td>0.073809</td>\n",
       "      <td>-0.906909</td>\n",
       "      <td>-1.254247</td>\n",
       "      <td>1.606182</td>\n",
       "      <td>0.298557</td>\n",
       "      <td>...</td>\n",
       "      <td>-0.028349</td>\n",
       "      <td>-0.968204</td>\n",
       "      <td>-1.233815</td>\n",
       "      <td>1.626613</td>\n",
       "      <td>-0.191802</td>\n",
       "      <td>1.115823</td>\n",
       "      <td>0.380284</td>\n",
       "      <td>-0.293960</td>\n",
       "      <td>0.135104</td>\n",
       "      <td>1.381434</td>\n",
       "    </tr>\n",
       "    <tr>\n",
       "      <th>5248</th>\n",
       "      <td>1</td>\n",
       "      <td>-0.478238</td>\n",
       "      <td>1.666142</td>\n",
       "      <td>0.049609</td>\n",
       "      <td>-0.428752</td>\n",
       "      <td>-0.362771</td>\n",
       "      <td>1.798104</td>\n",
       "      <td>-0.214314</td>\n",
       "      <td>0.775400</td>\n",
       "      <td>-0.379267</td>\n",
       "      <td>...</td>\n",
       "      <td>-0.428752</td>\n",
       "      <td>-1.121552</td>\n",
       "      <td>-0.379267</td>\n",
       "      <td>-0.593705</td>\n",
       "      <td>0.049609</td>\n",
       "      <td>1.765114</td>\n",
       "      <td>0.313533</td>\n",
       "      <td>-0.329781</td>\n",
       "      <td>-1.220524</td>\n",
       "      <td>0.033114</td>\n",
       "    </tr>\n",
       "    <tr>\n",
       "      <th>5249</th>\n",
       "      <td>1</td>\n",
       "      <td>-0.750874</td>\n",
       "      <td>0.267008</td>\n",
       "      <td>-0.155041</td>\n",
       "      <td>-0.179867</td>\n",
       "      <td>-0.155041</td>\n",
       "      <td>-0.303999</td>\n",
       "      <td>-0.279173</td>\n",
       "      <td>1.731765</td>\n",
       "      <td>0.564925</td>\n",
       "      <td>...</td>\n",
       "      <td>-0.303999</td>\n",
       "      <td>-0.850180</td>\n",
       "      <td>0.937321</td>\n",
       "      <td>-1.594972</td>\n",
       "      <td>1.036626</td>\n",
       "      <td>1.582807</td>\n",
       "      <td>1.036626</td>\n",
       "      <td>-0.254346</td>\n",
       "      <td>0.664230</td>\n",
       "      <td>1.831071</td>\n",
       "    </tr>\n",
       "  </tbody>\n",
       "</table>\n",
       "<p>5250 rows × 1201 columns</p>\n",
       "</div>"
      ],
      "text/plain": [
       "      labels       f_0       f_1       f_2       f_3       f_4       f_5  \\\n",
       "0          0 -2.033875  0.978446 -0.142131 -0.177117 -1.470684  1.669562   \n",
       "1          1 -0.348835  0.294815 -0.557577 -2.020773 -1.234715  1.633930   \n",
       "2          1  0.113248 -0.607726 -0.947791  0.830851  0.998291  0.498321   \n",
       "3          0  1.223321 -0.479048 -1.925789  1.680377  0.021840 -1.453307   \n",
       "4          0  0.160109  0.422684 -0.308029  0.227744  0.432854  0.608348   \n",
       "...      ...       ...       ...       ...       ...       ...       ...   \n",
       "5245       0  1.157565 -0.142219  1.043992  1.144946  1.195423  0.248978   \n",
       "5246       0  1.424709  0.235910  1.356778  1.368099 -0.318862  1.039765   \n",
       "5247       1 -0.375687  1.524455  0.012514 -0.007917  0.073809 -0.906909   \n",
       "5248       1 -0.478238  1.666142  0.049609 -0.428752 -0.362771  1.798104   \n",
       "5249       1 -0.750874  0.267008 -0.155041 -0.179867 -0.155041 -0.303999   \n",
       "\n",
       "           f_6       f_7       f_8  ...    f_1190    f_1191    f_1192  \\\n",
       "0    -0.196530 -0.125239 -0.452284  ... -1.111266  0.716084  0.060039   \n",
       "1    -1.680658 -0.358146  0.166122  ...  0.735240  0.829781  1.521941   \n",
       "2    -1.493958  0.789572 -1.311018  ...  0.104698  0.616189 -1.035953   \n",
       "3     0.605559 -0.019024  1.065448  ...  0.360237 -1.957863 -0.123384   \n",
       "4     0.193832  1.035091 -0.538868  ...  0.416629  1.441766  0.212572   \n",
       "...        ...       ...       ...  ...       ...       ...       ...   \n",
       "5245 -1.505100 -0.874137 -1.782724  ...  1.195423 -0.255793 -0.154838   \n",
       "5246 -0.986854 -0.330184 -1.383120  ...  1.424709 -1.066107  0.881258   \n",
       "5247 -1.254247  1.606182  0.298557  ... -0.028349 -0.968204 -1.233815   \n",
       "5248 -0.214314  0.775400 -0.379267  ... -0.428752 -1.121552 -0.379267   \n",
       "5249 -0.279173  1.731765  0.564925  ... -0.303999 -0.850180  0.937321   \n",
       "\n",
       "        f_1193    f_1194    f_1195    f_1196    f_1197    f_1198    f_1199  \n",
       "0     0.301279 -1.174846 -1.076498 -0.069452 -0.604012 -2.179176  0.558003  \n",
       "1     1.347946  0.754505  1.330642 -0.754453  0.582956  0.252671  1.495870  \n",
       "2     2.111387 -0.984415  1.148076 -1.433554  0.243372  0.170083  1.274795  \n",
       "3     1.505329  0.660290 -1.769443 -0.547756 -0.568122  0.244645  0.982116  \n",
       "4    -0.994721  1.143999 -2.166923 -1.199248 -1.028636  0.752791  0.317169  \n",
       "...        ...       ...       ...       ...       ...       ...       ...  \n",
       "5245  0.413029 -0.482939 -1.277953 -0.445082  1.195423 -0.924614 -0.432462  \n",
       "5246 -0.488691 -1.281223 -1.213291  0.122692  1.175627 -1.145360  0.451026  \n",
       "5247  1.626613 -0.191802  1.115823  0.380284 -0.293960  0.135104  1.381434  \n",
       "5248 -0.593705  0.049609  1.765114  0.313533 -0.329781 -1.220524  0.033114  \n",
       "5249 -1.594972  1.036626  1.582807  1.036626 -0.254346  0.664230  1.831071  \n",
       "\n",
       "[5250 rows x 1201 columns]"
      ]
     },
     "execution_count": 36,
     "metadata": {},
     "output_type": "execute_result"
    }
   ],
   "source": [
    "train = pd.read_csv(loc)\n",
    "train"
   ]
  },
  {
   "cell_type": "code",
   "execution_count": 37,
   "id": "7af3f90e",
   "metadata": {},
   "outputs": [
    {
     "data": {
      "text/html": [
       "<div>\n",
       "<style scoped>\n",
       "    .dataframe tbody tr th:only-of-type {\n",
       "        vertical-align: middle;\n",
       "    }\n",
       "\n",
       "    .dataframe tbody tr th {\n",
       "        vertical-align: top;\n",
       "    }\n",
       "\n",
       "    .dataframe thead th {\n",
       "        text-align: right;\n",
       "    }\n",
       "</style>\n",
       "<table border=\"1\" class=\"dataframe\">\n",
       "  <thead>\n",
       "    <tr style=\"text-align: right;\">\n",
       "      <th></th>\n",
       "      <th>f_0</th>\n",
       "      <th>f_1</th>\n",
       "      <th>f_2</th>\n",
       "      <th>f_3</th>\n",
       "      <th>f_4</th>\n",
       "      <th>f_5</th>\n",
       "      <th>f_6</th>\n",
       "      <th>f_7</th>\n",
       "      <th>f_8</th>\n",
       "      <th>f_9</th>\n",
       "      <th>...</th>\n",
       "      <th>f_1190</th>\n",
       "      <th>f_1191</th>\n",
       "      <th>f_1192</th>\n",
       "      <th>f_1193</th>\n",
       "      <th>f_1194</th>\n",
       "      <th>f_1195</th>\n",
       "      <th>f_1196</th>\n",
       "      <th>f_1197</th>\n",
       "      <th>f_1198</th>\n",
       "      <th>f_1199</th>\n",
       "    </tr>\n",
       "  </thead>\n",
       "  <tbody>\n",
       "    <tr>\n",
       "      <th>0</th>\n",
       "      <td>-2.033875</td>\n",
       "      <td>0.978446</td>\n",
       "      <td>-0.142131</td>\n",
       "      <td>-0.177117</td>\n",
       "      <td>-1.470684</td>\n",
       "      <td>1.669562</td>\n",
       "      <td>-0.196530</td>\n",
       "      <td>-0.125239</td>\n",
       "      <td>-0.452284</td>\n",
       "      <td>-0.128052</td>\n",
       "      <td>...</td>\n",
       "      <td>-1.111266</td>\n",
       "      <td>0.716084</td>\n",
       "      <td>0.060039</td>\n",
       "      <td>0.301279</td>\n",
       "      <td>-1.174846</td>\n",
       "      <td>-1.076498</td>\n",
       "      <td>-0.069452</td>\n",
       "      <td>-0.604012</td>\n",
       "      <td>-2.179176</td>\n",
       "      <td>0.558003</td>\n",
       "    </tr>\n",
       "    <tr>\n",
       "      <th>1</th>\n",
       "      <td>-0.348835</td>\n",
       "      <td>0.294815</td>\n",
       "      <td>-0.557577</td>\n",
       "      <td>-2.020773</td>\n",
       "      <td>-1.234715</td>\n",
       "      <td>1.633930</td>\n",
       "      <td>-1.680658</td>\n",
       "      <td>-0.358146</td>\n",
       "      <td>0.166122</td>\n",
       "      <td>-1.656990</td>\n",
       "      <td>...</td>\n",
       "      <td>0.735240</td>\n",
       "      <td>0.829781</td>\n",
       "      <td>1.521941</td>\n",
       "      <td>1.347946</td>\n",
       "      <td>0.754505</td>\n",
       "      <td>1.330642</td>\n",
       "      <td>-0.754453</td>\n",
       "      <td>0.582956</td>\n",
       "      <td>0.252671</td>\n",
       "      <td>1.495870</td>\n",
       "    </tr>\n",
       "    <tr>\n",
       "      <th>2</th>\n",
       "      <td>0.113248</td>\n",
       "      <td>-0.607726</td>\n",
       "      <td>-0.947791</td>\n",
       "      <td>0.830851</td>\n",
       "      <td>0.998291</td>\n",
       "      <td>0.498321</td>\n",
       "      <td>-1.493958</td>\n",
       "      <td>0.789572</td>\n",
       "      <td>-1.311018</td>\n",
       "      <td>0.848524</td>\n",
       "      <td>...</td>\n",
       "      <td>0.104698</td>\n",
       "      <td>0.616189</td>\n",
       "      <td>-1.035953</td>\n",
       "      <td>2.111387</td>\n",
       "      <td>-0.984415</td>\n",
       "      <td>1.148076</td>\n",
       "      <td>-1.433554</td>\n",
       "      <td>0.243372</td>\n",
       "      <td>0.170083</td>\n",
       "      <td>1.274795</td>\n",
       "    </tr>\n",
       "    <tr>\n",
       "      <th>3</th>\n",
       "      <td>1.223321</td>\n",
       "      <td>-0.479048</td>\n",
       "      <td>-1.925789</td>\n",
       "      <td>1.680377</td>\n",
       "      <td>0.021840</td>\n",
       "      <td>-1.453307</td>\n",
       "      <td>0.605559</td>\n",
       "      <td>-0.019024</td>\n",
       "      <td>1.065448</td>\n",
       "      <td>0.717341</td>\n",
       "      <td>...</td>\n",
       "      <td>0.360237</td>\n",
       "      <td>-1.957863</td>\n",
       "      <td>-0.123384</td>\n",
       "      <td>1.505329</td>\n",
       "      <td>0.660290</td>\n",
       "      <td>-1.769443</td>\n",
       "      <td>-0.547756</td>\n",
       "      <td>-0.568122</td>\n",
       "      <td>0.244645</td>\n",
       "      <td>0.982116</td>\n",
       "    </tr>\n",
       "    <tr>\n",
       "      <th>4</th>\n",
       "      <td>0.160109</td>\n",
       "      <td>0.422684</td>\n",
       "      <td>-0.308029</td>\n",
       "      <td>0.227744</td>\n",
       "      <td>0.432854</td>\n",
       "      <td>0.608348</td>\n",
       "      <td>0.193832</td>\n",
       "      <td>1.035091</td>\n",
       "      <td>-0.538868</td>\n",
       "      <td>0.778445</td>\n",
       "      <td>...</td>\n",
       "      <td>0.416629</td>\n",
       "      <td>1.441766</td>\n",
       "      <td>0.212572</td>\n",
       "      <td>-0.994721</td>\n",
       "      <td>1.143999</td>\n",
       "      <td>-2.166923</td>\n",
       "      <td>-1.199248</td>\n",
       "      <td>-1.028636</td>\n",
       "      <td>0.752791</td>\n",
       "      <td>0.317169</td>\n",
       "    </tr>\n",
       "    <tr>\n",
       "      <th>...</th>\n",
       "      <td>...</td>\n",
       "      <td>...</td>\n",
       "      <td>...</td>\n",
       "      <td>...</td>\n",
       "      <td>...</td>\n",
       "      <td>...</td>\n",
       "      <td>...</td>\n",
       "      <td>...</td>\n",
       "      <td>...</td>\n",
       "      <td>...</td>\n",
       "      <td>...</td>\n",
       "      <td>...</td>\n",
       "      <td>...</td>\n",
       "      <td>...</td>\n",
       "      <td>...</td>\n",
       "      <td>...</td>\n",
       "      <td>...</td>\n",
       "      <td>...</td>\n",
       "      <td>...</td>\n",
       "      <td>...</td>\n",
       "      <td>...</td>\n",
       "    </tr>\n",
       "    <tr>\n",
       "      <th>5245</th>\n",
       "      <td>1.157565</td>\n",
       "      <td>-0.142219</td>\n",
       "      <td>1.043992</td>\n",
       "      <td>1.144946</td>\n",
       "      <td>1.195423</td>\n",
       "      <td>0.248978</td>\n",
       "      <td>-1.505100</td>\n",
       "      <td>-0.874137</td>\n",
       "      <td>-1.782724</td>\n",
       "      <td>0.261597</td>\n",
       "      <td>...</td>\n",
       "      <td>1.195423</td>\n",
       "      <td>-0.255793</td>\n",
       "      <td>-0.154838</td>\n",
       "      <td>0.413029</td>\n",
       "      <td>-0.482939</td>\n",
       "      <td>-1.277953</td>\n",
       "      <td>-0.445082</td>\n",
       "      <td>1.195423</td>\n",
       "      <td>-0.924614</td>\n",
       "      <td>-0.432462</td>\n",
       "    </tr>\n",
       "    <tr>\n",
       "      <th>5246</th>\n",
       "      <td>1.424709</td>\n",
       "      <td>0.235910</td>\n",
       "      <td>1.356778</td>\n",
       "      <td>1.368099</td>\n",
       "      <td>-0.318862</td>\n",
       "      <td>1.039765</td>\n",
       "      <td>-0.986854</td>\n",
       "      <td>-0.330184</td>\n",
       "      <td>-1.383120</td>\n",
       "      <td>1.243559</td>\n",
       "      <td>...</td>\n",
       "      <td>1.424709</td>\n",
       "      <td>-1.066107</td>\n",
       "      <td>0.881258</td>\n",
       "      <td>-0.488691</td>\n",
       "      <td>-1.281223</td>\n",
       "      <td>-1.213291</td>\n",
       "      <td>0.122692</td>\n",
       "      <td>1.175627</td>\n",
       "      <td>-1.145360</td>\n",
       "      <td>0.451026</td>\n",
       "    </tr>\n",
       "    <tr>\n",
       "      <th>5247</th>\n",
       "      <td>-0.375687</td>\n",
       "      <td>1.524455</td>\n",
       "      <td>0.012514</td>\n",
       "      <td>-0.007917</td>\n",
       "      <td>0.073809</td>\n",
       "      <td>-0.906909</td>\n",
       "      <td>-1.254247</td>\n",
       "      <td>1.606182</td>\n",
       "      <td>0.298557</td>\n",
       "      <td>0.053378</td>\n",
       "      <td>...</td>\n",
       "      <td>-0.028349</td>\n",
       "      <td>-0.968204</td>\n",
       "      <td>-1.233815</td>\n",
       "      <td>1.626613</td>\n",
       "      <td>-0.191802</td>\n",
       "      <td>1.115823</td>\n",
       "      <td>0.380284</td>\n",
       "      <td>-0.293960</td>\n",
       "      <td>0.135104</td>\n",
       "      <td>1.381434</td>\n",
       "    </tr>\n",
       "    <tr>\n",
       "      <th>5248</th>\n",
       "      <td>-0.478238</td>\n",
       "      <td>1.666142</td>\n",
       "      <td>0.049609</td>\n",
       "      <td>-0.428752</td>\n",
       "      <td>-0.362771</td>\n",
       "      <td>1.798104</td>\n",
       "      <td>-0.214314</td>\n",
       "      <td>0.775400</td>\n",
       "      <td>-0.379267</td>\n",
       "      <td>0.725914</td>\n",
       "      <td>...</td>\n",
       "      <td>-0.428752</td>\n",
       "      <td>-1.121552</td>\n",
       "      <td>-0.379267</td>\n",
       "      <td>-0.593705</td>\n",
       "      <td>0.049609</td>\n",
       "      <td>1.765114</td>\n",
       "      <td>0.313533</td>\n",
       "      <td>-0.329781</td>\n",
       "      <td>-1.220524</td>\n",
       "      <td>0.033114</td>\n",
       "    </tr>\n",
       "    <tr>\n",
       "      <th>5249</th>\n",
       "      <td>-0.750874</td>\n",
       "      <td>0.267008</td>\n",
       "      <td>-0.155041</td>\n",
       "      <td>-0.179867</td>\n",
       "      <td>-0.155041</td>\n",
       "      <td>-0.303999</td>\n",
       "      <td>-0.279173</td>\n",
       "      <td>1.731765</td>\n",
       "      <td>0.564925</td>\n",
       "      <td>1.508328</td>\n",
       "      <td>...</td>\n",
       "      <td>-0.303999</td>\n",
       "      <td>-0.850180</td>\n",
       "      <td>0.937321</td>\n",
       "      <td>-1.594972</td>\n",
       "      <td>1.036626</td>\n",
       "      <td>1.582807</td>\n",
       "      <td>1.036626</td>\n",
       "      <td>-0.254346</td>\n",
       "      <td>0.664230</td>\n",
       "      <td>1.831071</td>\n",
       "    </tr>\n",
       "  </tbody>\n",
       "</table>\n",
       "<p>5250 rows × 1200 columns</p>\n",
       "</div>"
      ],
      "text/plain": [
       "           f_0       f_1       f_2       f_3       f_4       f_5       f_6  \\\n",
       "0    -2.033875  0.978446 -0.142131 -0.177117 -1.470684  1.669562 -0.196530   \n",
       "1    -0.348835  0.294815 -0.557577 -2.020773 -1.234715  1.633930 -1.680658   \n",
       "2     0.113248 -0.607726 -0.947791  0.830851  0.998291  0.498321 -1.493958   \n",
       "3     1.223321 -0.479048 -1.925789  1.680377  0.021840 -1.453307  0.605559   \n",
       "4     0.160109  0.422684 -0.308029  0.227744  0.432854  0.608348  0.193832   \n",
       "...        ...       ...       ...       ...       ...       ...       ...   \n",
       "5245  1.157565 -0.142219  1.043992  1.144946  1.195423  0.248978 -1.505100   \n",
       "5246  1.424709  0.235910  1.356778  1.368099 -0.318862  1.039765 -0.986854   \n",
       "5247 -0.375687  1.524455  0.012514 -0.007917  0.073809 -0.906909 -1.254247   \n",
       "5248 -0.478238  1.666142  0.049609 -0.428752 -0.362771  1.798104 -0.214314   \n",
       "5249 -0.750874  0.267008 -0.155041 -0.179867 -0.155041 -0.303999 -0.279173   \n",
       "\n",
       "           f_7       f_8       f_9  ...    f_1190    f_1191    f_1192  \\\n",
       "0    -0.125239 -0.452284 -0.128052  ... -1.111266  0.716084  0.060039   \n",
       "1    -0.358146  0.166122 -1.656990  ...  0.735240  0.829781  1.521941   \n",
       "2     0.789572 -1.311018  0.848524  ...  0.104698  0.616189 -1.035953   \n",
       "3    -0.019024  1.065448  0.717341  ...  0.360237 -1.957863 -0.123384   \n",
       "4     1.035091 -0.538868  0.778445  ...  0.416629  1.441766  0.212572   \n",
       "...        ...       ...       ...  ...       ...       ...       ...   \n",
       "5245 -0.874137 -1.782724  0.261597  ...  1.195423 -0.255793 -0.154838   \n",
       "5246 -0.330184 -1.383120  1.243559  ...  1.424709 -1.066107  0.881258   \n",
       "5247  1.606182  0.298557  0.053378  ... -0.028349 -0.968204 -1.233815   \n",
       "5248  0.775400 -0.379267  0.725914  ... -0.428752 -1.121552 -0.379267   \n",
       "5249  1.731765  0.564925  1.508328  ... -0.303999 -0.850180  0.937321   \n",
       "\n",
       "        f_1193    f_1194    f_1195    f_1196    f_1197    f_1198    f_1199  \n",
       "0     0.301279 -1.174846 -1.076498 -0.069452 -0.604012 -2.179176  0.558003  \n",
       "1     1.347946  0.754505  1.330642 -0.754453  0.582956  0.252671  1.495870  \n",
       "2     2.111387 -0.984415  1.148076 -1.433554  0.243372  0.170083  1.274795  \n",
       "3     1.505329  0.660290 -1.769443 -0.547756 -0.568122  0.244645  0.982116  \n",
       "4    -0.994721  1.143999 -2.166923 -1.199248 -1.028636  0.752791  0.317169  \n",
       "...        ...       ...       ...       ...       ...       ...       ...  \n",
       "5245  0.413029 -0.482939 -1.277953 -0.445082  1.195423 -0.924614 -0.432462  \n",
       "5246 -0.488691 -1.281223 -1.213291  0.122692  1.175627 -1.145360  0.451026  \n",
       "5247  1.626613 -0.191802  1.115823  0.380284 -0.293960  0.135104  1.381434  \n",
       "5248 -0.593705  0.049609  1.765114  0.313533 -0.329781 -1.220524  0.033114  \n",
       "5249 -1.594972  1.036626  1.582807  1.036626 -0.254346  0.664230  1.831071  \n",
       "\n",
       "[5250 rows x 1200 columns]"
      ]
     },
     "execution_count": 37,
     "metadata": {},
     "output_type": "execute_result"
    }
   ],
   "source": [
    "x = train.iloc[:,1:]\n",
    "x"
   ]
  },
  {
   "cell_type": "code",
   "execution_count": 38,
   "id": "25a1e10f",
   "metadata": {},
   "outputs": [
    {
     "data": {
      "text/plain": [
       "5.347407283650381"
      ]
     },
     "execution_count": 38,
     "metadata": {},
     "output_type": "execute_result"
    }
   ],
   "source": [
    "np.max(x)"
   ]
  },
  {
   "cell_type": "code",
   "execution_count": 39,
   "id": "4b79af19",
   "metadata": {},
   "outputs": [
    {
     "data": {
      "text/plain": [
       "-5.176033775043042"
      ]
     },
     "execution_count": 39,
     "metadata": {},
     "output_type": "execute_result"
    }
   ],
   "source": [
    "np.min(x)"
   ]
  },
  {
   "cell_type": "code",
   "execution_count": 40,
   "id": "0f9e87b9",
   "metadata": {},
   "outputs": [
    {
     "data": {
      "text/plain": [
       "0       0\n",
       "1       1\n",
       "2       1\n",
       "3       0\n",
       "4       0\n",
       "       ..\n",
       "5245    0\n",
       "5246    0\n",
       "5247    1\n",
       "5248    1\n",
       "5249    1\n",
       "Name: labels, Length: 5250, dtype: int64"
      ]
     },
     "execution_count": 40,
     "metadata": {},
     "output_type": "execute_result"
    }
   ],
   "source": [
    "y = train.iloc[:,0]\n",
    "y"
   ]
  },
  {
   "cell_type": "code",
   "execution_count": 41,
   "id": "a781a4c9",
   "metadata": {},
   "outputs": [
    {
     "name": "stdout",
     "output_type": "stream",
     "text": [
      "<class 'pandas.core.frame.DataFrame'>\n",
      "RangeIndex: 5250 entries, 0 to 5249\n",
      "Columns: 1200 entries, f_0 to f_1199\n",
      "dtypes: float64(1200)\n",
      "memory usage: 48.1 MB\n"
     ]
    }
   ],
   "source": [
    "x.info()"
   ]
  },
  {
   "cell_type": "code",
   "execution_count": 42,
   "id": "63ab6d6a",
   "metadata": {},
   "outputs": [
    {
     "data": {
      "text/plain": [
       "array([0, 1])"
      ]
     },
     "execution_count": 42,
     "metadata": {},
     "output_type": "execute_result"
    }
   ],
   "source": [
    "y.unique()"
   ]
  },
  {
   "cell_type": "code",
   "execution_count": 43,
   "id": "204a7a0f",
   "metadata": {},
   "outputs": [],
   "source": [
    "# There are therefore only 2 classes: 0 and 1"
   ]
  },
  {
   "cell_type": "code",
   "execution_count": 44,
   "id": "524e2a2f",
   "metadata": {},
   "outputs": [],
   "source": [
    "inp = torch.from_numpy(x.values.reshape(len(x),3,20,20).astype(float))"
   ]
  },
  {
   "cell_type": "markdown",
   "id": "12dd253d",
   "metadata": {},
   "source": [
    "# Samples of Images"
   ]
  },
  {
   "cell_type": "code",
   "execution_count": 45,
   "id": "3168aebd",
   "metadata": {},
   "outputs": [
    {
     "data": {
      "image/png": "[encoded data removed]",
      "text/plain": [
       "<Figure size 1600x1600 with 7 Axes>"
      ]
     },
     "metadata": {},
     "output_type": "display_data"
    }
   ],
   "source": [
    "plt.figure(figsize=(16,16))\n",
    "for i in range(7):\n",
    "    plt.subplot(1,8,i+1)\n",
    "    plt.imshow(torch.clamp(torch.from_numpy(x.iloc[i,:].values.reshape(20,20,3).astype(float)),0,1))"
   ]
  },
  {
   "cell_type": "markdown",
   "id": "1cf5fc42",
   "metadata": {},
   "source": [
    "# Building a CNN using torch"
   ]
  },
  {
   "cell_type": "code",
   "execution_count": 46,
   "id": "3bd63b5a",
   "metadata": {},
   "outputs": [],
   "source": [
    "class Net(nn.Module):\n",
    "    def __init__(self):\n",
    "        super().__init__()\n",
    "        self.conv1 = nn.Conv2d(3,6,3) #output 18*18*6\n",
    "        self.pool= nn.MaxPool2d(2,2) #output 9*9*6\n",
    "        self.conv2 = nn.Conv2d(6,12,3 , padding=1) #output 9*9*12\n",
    "        self.hl1 = nn.Linear(81*12,243)\n",
    "        self.hl2 = nn.Linear(243,122)\n",
    "        self.hl3 = nn.Linear(122,61)\n",
    "        self.hl4 = nn.Linear(61,2)\n",
    "    def forward(self,x):\n",
    "        x = self.pool(F.relu(self.conv1(x)))\n",
    "        x = self.conv2(x)\n",
    "        x = torch.flatten(x,1)\n",
    "        x = self.hl1(x)\n",
    "        x = self.hl2(x)\n",
    "        x = self.hl3(x)\n",
    "        x = F.sigmoid(self.hl4(x))\n",
    "        return x"
   ]
  },
  {
   "cell_type": "code",
   "execution_count": 47,
   "id": "e0a5e50f",
   "metadata": {},
   "outputs": [],
   "source": [
    "net = Net()\n",
    "lossfn = nn.CrossEntropyLoss()\n",
    "optimizer = optim.Adam(net.parameters(), lr = 0.00007)\n",
    "num_epochs = 30"
   ]
  },
  {
   "cell_type": "code",
   "execution_count": 48,
   "id": "0da77c51",
   "metadata": {},
   "outputs": [
    {
     "data": {
      "text/plain": [
       "Net(\n",
       "  (conv1): Conv2d(3, 6, kernel_size=(3, 3), stride=(1, 1))\n",
       "  (pool): MaxPool2d(kernel_size=2, stride=2, padding=0, dilation=1, ceil_mode=False)\n",
       "  (conv2): Conv2d(6, 12, kernel_size=(3, 3), stride=(1, 1), padding=(1, 1))\n",
       "  (hl1): Linear(in_features=972, out_features=243, bias=True)\n",
       "  (hl2): Linear(in_features=243, out_features=122, bias=True)\n",
       "  (hl3): Linear(in_features=122, out_features=61, bias=True)\n",
       "  (hl4): Linear(in_features=61, out_features=2, bias=True)\n",
       ")"
      ]
     },
     "execution_count": 48,
     "metadata": {},
     "output_type": "execute_result"
    }
   ],
   "source": [
    "net"
   ]
  },
  {
   "cell_type": "code",
   "execution_count": 49,
   "id": "3505652f",
   "metadata": {},
   "outputs": [
    {
     "name": "stderr",
     "output_type": "stream",
     "text": [
      "epoch 1: 100%|█████████████████████████████████| 82/82 [00:00<00:00, 134.41it/s]\n"
     ]
    },
    {
     "name": "stdout",
     "output_type": "stream",
     "text": [
      "average_loss: 0.6199391113548745\n"
     ]
    },
    {
     "name": "stderr",
     "output_type": "stream",
     "text": [
      "epoch 2: 100%|█████████████████████████████████| 82/82 [00:00<00:00, 137.75it/s]\n"
     ]
    },
    {
     "name": "stdout",
     "output_type": "stream",
     "text": [
      "average_loss: 0.5439290753225001\n"
     ]
    },
    {
     "name": "stderr",
     "output_type": "stream",
     "text": [
      "epoch 3: 100%|█████████████████████████████████| 82/82 [00:00<00:00, 139.60it/s]\n"
     ]
    },
    {
     "name": "stdout",
     "output_type": "stream",
     "text": [
      "average_loss: 0.35454799889064414\n"
     ]
    },
    {
     "name": "stderr",
     "output_type": "stream",
     "text": [
      "epoch 4: 100%|█████████████████████████████████| 82/82 [00:00<00:00, 140.75it/s]\n"
     ]
    },
    {
     "name": "stdout",
     "output_type": "stream",
     "text": [
      "average_loss: 0.32407499958829183\n"
     ]
    },
    {
     "name": "stderr",
     "output_type": "stream",
     "text": [
      "epoch 5: 100%|█████████████████████████████████| 82/82 [00:00<00:00, 138.20it/s]\n"
     ]
    },
    {
     "name": "stdout",
     "output_type": "stream",
     "text": [
      "average_loss: 0.3209590330356505\n"
     ]
    },
    {
     "name": "stderr",
     "output_type": "stream",
     "text": [
      "epoch 6: 100%|█████████████████████████████████| 82/82 [00:00<00:00, 139.19it/s]\n"
     ]
    },
    {
     "name": "stdout",
     "output_type": "stream",
     "text": [
      "average_loss: 0.319760642764045\n"
     ]
    },
    {
     "name": "stderr",
     "output_type": "stream",
     "text": [
      "epoch 7: 100%|█████████████████████████████████| 82/82 [00:00<00:00, 141.91it/s]\n"
     ]
    },
    {
     "name": "stdout",
     "output_type": "stream",
     "text": [
      "average_loss: 0.3193961443697534\n"
     ]
    },
    {
     "name": "stderr",
     "output_type": "stream",
     "text": [
      "epoch 8: 100%|█████████████████████████████████| 82/82 [00:00<00:00, 144.84it/s]\n"
     ]
    },
    {
     "name": "stdout",
     "output_type": "stream",
     "text": [
      "average_loss: 0.31926858933960517\n"
     ]
    },
    {
     "name": "stderr",
     "output_type": "stream",
     "text": [
      "epoch 9: 100%|█████████████████████████████████| 82/82 [00:00<00:00, 140.14it/s]\n"
     ]
    },
    {
     "name": "stdout",
     "output_type": "stream",
     "text": [
      "average_loss: 0.3191921583762983\n"
     ]
    },
    {
     "name": "stderr",
     "output_type": "stream",
     "text": [
      "epoch 10: 100%|████████████████████████████████| 82/82 [00:00<00:00, 143.27it/s]\n"
     ]
    },
    {
     "name": "stdout",
     "output_type": "stream",
     "text": [
      "average_loss: 0.3191416238139315\n"
     ]
    },
    {
     "name": "stderr",
     "output_type": "stream",
     "text": [
      "epoch 11: 100%|████████████████████████████████| 82/82 [00:00<00:00, 141.58it/s]\n"
     ]
    },
    {
     "name": "stdout",
     "output_type": "stream",
     "text": [
      "average_loss: 0.3191052620730749\n"
     ]
    },
    {
     "name": "stderr",
     "output_type": "stream",
     "text": [
      "epoch 12: 100%|████████████████████████████████| 82/82 [00:00<00:00, 133.14it/s]\n"
     ]
    },
    {
     "name": "stdout",
     "output_type": "stream",
     "text": [
      "average_loss: 0.31907639707007057\n"
     ]
    },
    {
     "name": "stderr",
     "output_type": "stream",
     "text": [
      "epoch 13: 100%|████████████████████████████████| 82/82 [00:00<00:00, 135.86it/s]\n"
     ]
    },
    {
     "name": "stdout",
     "output_type": "stream",
     "text": [
      "average_loss: 0.3190491333967302\n"
     ]
    },
    {
     "name": "stderr",
     "output_type": "stream",
     "text": [
      "epoch 14: 100%|████████████████████████████████| 82/82 [00:00<00:00, 141.81it/s]\n"
     ]
    },
    {
     "name": "stdout",
     "output_type": "stream",
     "text": [
      "average_loss: 0.31844843487914015\n"
     ]
    },
    {
     "name": "stderr",
     "output_type": "stream",
     "text": [
      "epoch 15: 100%|████████████████████████████████| 82/82 [00:00<00:00, 140.68it/s]\n"
     ]
    },
    {
     "name": "stdout",
     "output_type": "stream",
     "text": [
      "average_loss: 0.31682440384132105\n"
     ]
    },
    {
     "name": "stderr",
     "output_type": "stream",
     "text": [
      "epoch 16: 100%|████████████████████████████████| 82/82 [00:00<00:00, 142.97it/s]\n"
     ]
    },
    {
     "name": "stdout",
     "output_type": "stream",
     "text": [
      "average_loss: 0.3165809163233129\n"
     ]
    },
    {
     "name": "stderr",
     "output_type": "stream",
     "text": [
      "epoch 17: 100%|████████████████████████████████| 82/82 [00:00<00:00, 142.38it/s]\n"
     ]
    },
    {
     "name": "stdout",
     "output_type": "stream",
     "text": [
      "average_loss: 0.31656471439977973\n"
     ]
    },
    {
     "name": "stderr",
     "output_type": "stream",
     "text": [
      "epoch 18: 100%|████████████████████████████████| 82/82 [00:00<00:00, 143.86it/s]\n"
     ]
    },
    {
     "name": "stdout",
     "output_type": "stream",
     "text": [
      "average_loss: 0.3165533375449297\n"
     ]
    },
    {
     "name": "stderr",
     "output_type": "stream",
     "text": [
      "epoch 19: 100%|████████████████████████████████| 82/82 [00:00<00:00, 144.49it/s]\n"
     ]
    },
    {
     "name": "stdout",
     "output_type": "stream",
     "text": [
      "average_loss: 0.31654504341323203\n"
     ]
    },
    {
     "name": "stderr",
     "output_type": "stream",
     "text": [
      "epoch 20: 100%|████████████████████████████████| 82/82 [00:00<00:00, 142.08it/s]\n"
     ]
    },
    {
     "name": "stdout",
     "output_type": "stream",
     "text": [
      "average_loss: 0.31653874494680545\n"
     ]
    },
    {
     "name": "stderr",
     "output_type": "stream",
     "text": [
      "epoch 21: 100%|████████████████████████████████| 82/82 [00:00<00:00, 141.06it/s]\n"
     ]
    },
    {
     "name": "stdout",
     "output_type": "stream",
     "text": [
      "average_loss: 0.3165337908558729\n"
     ]
    },
    {
     "name": "stderr",
     "output_type": "stream",
     "text": [
      "epoch 22: 100%|████████████████████████████████| 82/82 [00:00<00:00, 143.85it/s]\n"
     ]
    },
    {
     "name": "stdout",
     "output_type": "stream",
     "text": [
      "average_loss: 0.3165297908026998\n"
     ]
    },
    {
     "name": "stderr",
     "output_type": "stream",
     "text": [
      "epoch 23: 100%|████████████████████████████████| 82/82 [00:00<00:00, 142.99it/s]\n"
     ]
    },
    {
     "name": "stdout",
     "output_type": "stream",
     "text": [
      "average_loss: 0.3165265038246062\n"
     ]
    },
    {
     "name": "stderr",
     "output_type": "stream",
     "text": [
      "epoch 24: 100%|████████████████████████████████| 82/82 [00:00<00:00, 144.95it/s]\n"
     ]
    },
    {
     "name": "stdout",
     "output_type": "stream",
     "text": [
      "average_loss: 0.3165237423850269\n"
     ]
    },
    {
     "name": "stderr",
     "output_type": "stream",
     "text": [
      "epoch 25: 100%|████████████████████████████████| 82/82 [00:00<00:00, 142.90it/s]\n"
     ]
    },
    {
     "name": "stdout",
     "output_type": "stream",
     "text": [
      "average_loss: 0.31652140617370605\n"
     ]
    },
    {
     "name": "stderr",
     "output_type": "stream",
     "text": [
      "epoch 26: 100%|████████████████████████████████| 82/82 [00:00<00:00, 144.57it/s]\n"
     ]
    },
    {
     "name": "stdout",
     "output_type": "stream",
     "text": [
      "average_loss: 0.3165193945169449\n"
     ]
    },
    {
     "name": "stderr",
     "output_type": "stream",
     "text": [
      "epoch 27: 100%|████████████████████████████████| 82/82 [00:00<00:00, 143.73it/s]\n"
     ]
    },
    {
     "name": "stdout",
     "output_type": "stream",
     "text": [
      "average_loss: 0.31651764926387044\n"
     ]
    },
    {
     "name": "stderr",
     "output_type": "stream",
     "text": [
      "epoch 28: 100%|████████████████████████████████| 82/82 [00:00<00:00, 143.29it/s]\n"
     ]
    },
    {
     "name": "stdout",
     "output_type": "stream",
     "text": [
      "average_loss: 0.3165161257109991\n"
     ]
    },
    {
     "name": "stderr",
     "output_type": "stream",
     "text": [
      "epoch 29: 100%|████████████████████████████████| 82/82 [00:00<00:00, 143.82it/s]\n"
     ]
    },
    {
     "name": "stdout",
     "output_type": "stream",
     "text": [
      "average_loss: 0.3165147878774783\n"
     ]
    },
    {
     "name": "stderr",
     "output_type": "stream",
     "text": [
      "epoch 30: 100%|████████████████████████████████| 82/82 [00:00<00:00, 143.57it/s]"
     ]
    },
    {
     "name": "stdout",
     "output_type": "stream",
     "text": [
      "average_loss: 0.3165135968749116\n"
     ]
    },
    {
     "name": "stderr",
     "output_type": "stream",
     "text": [
      "\n"
     ]
    }
   ],
   "source": [
    "batch_size = 64\n",
    "loss_data = []\n",
    "def training(num_epochs,inp):\n",
    "    for epoch in range(num_epochs):\n",
    "        running_loss = 0.0\n",
    "        epoch_bar = tqdm(range(int(len(train) / batch_size)), desc=f'epoch {epoch + 1}')\n",
    "        for i in epoch_bar:\n",
    "            inputs = inp[i:i+batch_size].float()\n",
    "            labels = torch.from_numpy(y.values[i:i+batch_size]).long()\n",
    "            optimizer.zero_grad()\n",
    "            outputs = net(inputs)\n",
    "            loss = lossfn(outputs.float(), labels)\n",
    "            loss.backward()\n",
    "            optimizer.step()\n",
    "            running_loss += loss.item()\n",
    "            average_loss = running_loss / (i + 1)\n",
    "        loss_data.append(average_loss)\n",
    "        print(f\"average_loss: {average_loss}\")\n",
    "\n",
    "training(num_epochs,inp)\n"
   ]
  },
  {
   "cell_type": "code",
   "execution_count": 50,
   "id": "4098cb21",
   "metadata": {},
   "outputs": [
    {
     "data": {
      "text/plain": [
       "[<matplotlib.lines.Line2D at 0x2aff8f8d0>]"
      ]
     },
     "execution_count": 50,
     "metadata": {},
     "output_type": "execute_result"
    },
    {
     "data": {
      "image/png": "[encoded data removed]",
      "text/plain": [
       "<Figure size 640x480 with 1 Axes>"
      ]
     },
     "metadata": {},
     "output_type": "display_data"
    }
   ],
   "source": [
    "plt.plot(np.arange(num_epochs),loss_data)"
   ]
  },
  {
   "cell_type": "code",
   "execution_count": 51,
   "id": "df7300a6",
   "metadata": {},
   "outputs": [],
   "source": [
    "torch.save(net.state_dict() , 'model.pt')"
   ]
  },
  {
   "cell_type": "code",
   "execution_count": 52,
   "id": "a0da6f08",
   "metadata": {},
   "outputs": [],
   "source": [
    "x_train , x_test , y_train , y_test = train_test_split(x,y,test_size=0.2)"
   ]
  },
  {
   "cell_type": "code",
   "execution_count": 53,
   "id": "a7fda304",
   "metadata": {},
   "outputs": [],
   "source": [
    "inp_test = torch.from_numpy(x_test.values.reshape(len(x_test),3,20,20).astype(float)).float()"
   ]
  },
  {
   "cell_type": "markdown",
   "id": "d5f4f95d",
   "metadata": {},
   "source": [
    "# Checking Accuracy on Validation dataset"
   ]
  },
  {
   "cell_type": "code",
   "execution_count": 54,
   "id": "3736f248",
   "metadata": {},
   "outputs": [
    {
     "name": "stdout",
     "output_type": "stream",
     "text": [
      "Accuracy: 0.7142857313156128\n"
     ]
    }
   ],
   "source": [
    "net.eval()\n",
    "predictions = []\n",
    "true_labels = []\n",
    "with torch.no_grad():\n",
    "        labels = y_test\n",
    "        outputs = net(inp_test)\n",
    "        _, predicted = torch.max(outputs.data, 1)\n",
    "        predictions.extend(predicted)\n",
    "        true_labels.extend(labels)\n",
    "\n",
    "total = len(true_labels)\n",
    "correct = sum(predictions[i] == true_labels[i] for i in range(total))\n",
    "accuracy = correct / total\n",
    "\n",
    "print(f\"Accuracy: {accuracy}\")"
   ]
  },
  {
   "cell_type": "markdown",
   "id": "d8311c83",
   "metadata": {},
   "source": [
    "# Loading test dataset"
   ]
  },
  {
   "cell_type": "code",
   "execution_count": 55,
   "id": "c17c9a76",
   "metadata": {},
   "outputs": [
    {
     "data": {
      "text/html": [
       "<div>\n",
       "<style scoped>\n",
       "    .dataframe tbody tr th:only-of-type {\n",
       "        vertical-align: middle;\n",
       "    }\n",
       "\n",
       "    .dataframe tbody tr th {\n",
       "        vertical-align: top;\n",
       "    }\n",
       "\n",
       "    .dataframe thead th {\n",
       "        text-align: right;\n",
       "    }\n",
       "</style>\n",
       "<table border=\"1\" class=\"dataframe\">\n",
       "  <thead>\n",
       "    <tr style=\"text-align: right;\">\n",
       "      <th></th>\n",
       "      <th>id</th>\n",
       "      <th>f_0</th>\n",
       "      <th>f_1</th>\n",
       "      <th>f_2</th>\n",
       "      <th>f_3</th>\n",
       "      <th>f_4</th>\n",
       "      <th>f_5</th>\n",
       "      <th>f_6</th>\n",
       "      <th>f_7</th>\n",
       "      <th>f_8</th>\n",
       "      <th>...</th>\n",
       "      <th>f_1190</th>\n",
       "      <th>f_1191</th>\n",
       "      <th>f_1192</th>\n",
       "      <th>f_1193</th>\n",
       "      <th>f_1194</th>\n",
       "      <th>f_1195</th>\n",
       "      <th>f_1196</th>\n",
       "      <th>f_1197</th>\n",
       "      <th>f_1198</th>\n",
       "      <th>f_1199</th>\n",
       "    </tr>\n",
       "  </thead>\n",
       "  <tbody>\n",
       "    <tr>\n",
       "      <th>0</th>\n",
       "      <td>1</td>\n",
       "      <td>-3.388242</td>\n",
       "      <td>0.868285</td>\n",
       "      <td>-0.427619</td>\n",
       "      <td>-0.678964</td>\n",
       "      <td>-1.625735</td>\n",
       "      <td>0.262761</td>\n",
       "      <td>1.243040</td>\n",
       "      <td>1.537751</td>\n",
       "      <td>-0.352028</td>\n",
       "      <td>...</td>\n",
       "      <td>-0.776403</td>\n",
       "      <td>-0.662884</td>\n",
       "      <td>-0.257091</td>\n",
       "      <td>-1.168413</td>\n",
       "      <td>0.223260</td>\n",
       "      <td>-0.482520</td>\n",
       "      <td>-0.085453</td>\n",
       "      <td>-0.382265</td>\n",
       "      <td>-0.539349</td>\n",
       "      <td>-1.682404</td>\n",
       "    </tr>\n",
       "    <tr>\n",
       "      <th>1</th>\n",
       "      <td>2</td>\n",
       "      <td>-0.496920</td>\n",
       "      <td>0.952381</td>\n",
       "      <td>0.989040</td>\n",
       "      <td>0.451422</td>\n",
       "      <td>0.513516</td>\n",
       "      <td>-0.099658</td>\n",
       "      <td>-1.124326</td>\n",
       "      <td>0.729430</td>\n",
       "      <td>-0.216224</td>\n",
       "      <td>...</td>\n",
       "      <td>0.379635</td>\n",
       "      <td>-1.760084</td>\n",
       "      <td>1.125450</td>\n",
       "      <td>-0.328047</td>\n",
       "      <td>-0.880305</td>\n",
       "      <td>-1.257607</td>\n",
       "      <td>0.964312</td>\n",
       "      <td>2.021104</td>\n",
       "      <td>0.655021</td>\n",
       "      <td>-0.423029</td>\n",
       "    </tr>\n",
       "    <tr>\n",
       "      <th>2</th>\n",
       "      <td>3</td>\n",
       "      <td>1.128369</td>\n",
       "      <td>-0.537951</td>\n",
       "      <td>2.544358</td>\n",
       "      <td>1.165254</td>\n",
       "      <td>-1.904994</td>\n",
       "      <td>0.776961</td>\n",
       "      <td>-0.495768</td>\n",
       "      <td>0.060111</td>\n",
       "      <td>-1.418468</td>\n",
       "      <td>...</td>\n",
       "      <td>1.165254</td>\n",
       "      <td>-1.373589</td>\n",
       "      <td>-0.483701</td>\n",
       "      <td>-0.964782</td>\n",
       "      <td>-0.869555</td>\n",
       "      <td>0.066040</td>\n",
       "      <td>-0.444567</td>\n",
       "      <td>-0.531935</td>\n",
       "      <td>-0.878660</td>\n",
       "      <td>1.099488</td>\n",
       "    </tr>\n",
       "    <tr>\n",
       "      <th>3</th>\n",
       "      <td>4</td>\n",
       "      <td>0.051253</td>\n",
       "      <td>1.746814</td>\n",
       "      <td>0.681177</td>\n",
       "      <td>1.844524</td>\n",
       "      <td>-0.327977</td>\n",
       "      <td>1.226839</td>\n",
       "      <td>-0.085519</td>\n",
       "      <td>0.379008</td>\n",
       "      <td>-1.003667</td>\n",
       "      <td>...</td>\n",
       "      <td>-0.442288</td>\n",
       "      <td>-2.794472</td>\n",
       "      <td>-0.763468</td>\n",
       "      <td>-0.789832</td>\n",
       "      <td>-0.113209</td>\n",
       "      <td>-2.703150</td>\n",
       "      <td>-2.058728</td>\n",
       "      <td>1.070627</td>\n",
       "      <td>-0.458045</td>\n",
       "      <td>-0.435825</td>\n",
       "    </tr>\n",
       "    <tr>\n",
       "      <th>4</th>\n",
       "      <td>5</td>\n",
       "      <td>1.423209</td>\n",
       "      <td>-0.983594</td>\n",
       "      <td>-1.694170</td>\n",
       "      <td>1.197507</td>\n",
       "      <td>1.044211</td>\n",
       "      <td>0.518777</td>\n",
       "      <td>-0.298612</td>\n",
       "      <td>-0.365174</td>\n",
       "      <td>0.738447</td>\n",
       "      <td>...</td>\n",
       "      <td>-2.624450</td>\n",
       "      <td>-3.200223</td>\n",
       "      <td>0.711422</td>\n",
       "      <td>-0.190394</td>\n",
       "      <td>0.337224</td>\n",
       "      <td>-1.656639</td>\n",
       "      <td>0.707360</td>\n",
       "      <td>-0.562290</td>\n",
       "      <td>1.471181</td>\n",
       "      <td>-0.192000</td>\n",
       "    </tr>\n",
       "    <tr>\n",
       "      <th>...</th>\n",
       "      <td>...</td>\n",
       "      <td>...</td>\n",
       "      <td>...</td>\n",
       "      <td>...</td>\n",
       "      <td>...</td>\n",
       "      <td>...</td>\n",
       "      <td>...</td>\n",
       "      <td>...</td>\n",
       "      <td>...</td>\n",
       "      <td>...</td>\n",
       "      <td>...</td>\n",
       "      <td>...</td>\n",
       "      <td>...</td>\n",
       "      <td>...</td>\n",
       "      <td>...</td>\n",
       "      <td>...</td>\n",
       "      <td>...</td>\n",
       "      <td>...</td>\n",
       "      <td>...</td>\n",
       "      <td>...</td>\n",
       "      <td>...</td>\n",
       "    </tr>\n",
       "    <tr>\n",
       "      <th>2245</th>\n",
       "      <td>2246</td>\n",
       "      <td>0.889888</td>\n",
       "      <td>-0.319077</td>\n",
       "      <td>0.849589</td>\n",
       "      <td>0.822723</td>\n",
       "      <td>0.876455</td>\n",
       "      <td>0.325704</td>\n",
       "      <td>0.876455</td>\n",
       "      <td>-0.910127</td>\n",
       "      <td>0.889888</td>\n",
       "      <td>...</td>\n",
       "      <td>0.889888</td>\n",
       "      <td>-2.226556</td>\n",
       "      <td>-0.090717</td>\n",
       "      <td>-1.393713</td>\n",
       "      <td>-0.896694</td>\n",
       "      <td>-0.399675</td>\n",
       "      <td>-0.856395</td>\n",
       "      <td>0.876455</td>\n",
       "      <td>0.863022</td>\n",
       "      <td>-0.601169</td>\n",
       "    </tr>\n",
       "    <tr>\n",
       "      <th>2246</th>\n",
       "      <td>2247</td>\n",
       "      <td>1.005737</td>\n",
       "      <td>-0.064755</td>\n",
       "      <td>1.163494</td>\n",
       "      <td>1.163494</td>\n",
       "      <td>1.163494</td>\n",
       "      <td>0.724028</td>\n",
       "      <td>0.712760</td>\n",
       "      <td>-0.785929</td>\n",
       "      <td>-1.225394</td>\n",
       "      <td>...</td>\n",
       "      <td>1.163494</td>\n",
       "      <td>-1.270468</td>\n",
       "      <td>-0.932417</td>\n",
       "      <td>-1.169053</td>\n",
       "      <td>-0.008414</td>\n",
       "      <td>-0.605636</td>\n",
       "      <td>-0.323927</td>\n",
       "      <td>1.163494</td>\n",
       "      <td>-1.315541</td>\n",
       "      <td>0.047928</td>\n",
       "    </tr>\n",
       "    <tr>\n",
       "      <th>2247</th>\n",
       "      <td>2248</td>\n",
       "      <td>1.252086</td>\n",
       "      <td>1.223561</td>\n",
       "      <td>0.153859</td>\n",
       "      <td>-0.987156</td>\n",
       "      <td>0.239435</td>\n",
       "      <td>-0.003031</td>\n",
       "      <td>-1.158309</td>\n",
       "      <td>1.237823</td>\n",
       "      <td>-1.272410</td>\n",
       "      <td>...</td>\n",
       "      <td>0.581740</td>\n",
       "      <td>-1.386512</td>\n",
       "      <td>0.809943</td>\n",
       "      <td>-1.243885</td>\n",
       "      <td>0.153859</td>\n",
       "      <td>-0.630589</td>\n",
       "      <td>1.594391</td>\n",
       "      <td>1.252086</td>\n",
       "      <td>-1.429300</td>\n",
       "      <td>1.408976</td>\n",
       "    </tr>\n",
       "    <tr>\n",
       "      <th>2248</th>\n",
       "      <td>2249</td>\n",
       "      <td>1.042624</td>\n",
       "      <td>-0.129166</td>\n",
       "      <td>1.066538</td>\n",
       "      <td>1.030667</td>\n",
       "      <td>1.162195</td>\n",
       "      <td>0.707827</td>\n",
       "      <td>-1.396612</td>\n",
       "      <td>0.014319</td>\n",
       "      <td>-1.025944</td>\n",
       "      <td>...</td>\n",
       "      <td>1.078495</td>\n",
       "      <td>-1.193343</td>\n",
       "      <td>0.086061</td>\n",
       "      <td>-0.081338</td>\n",
       "      <td>-0.978116</td>\n",
       "      <td>-0.368307</td>\n",
       "      <td>-0.129166</td>\n",
       "      <td>1.090452</td>\n",
       "      <td>-1.444440</td>\n",
       "      <td>0.468686</td>\n",
       "    </tr>\n",
       "    <tr>\n",
       "      <th>2249</th>\n",
       "      <td>2250</td>\n",
       "      <td>-1.319572</td>\n",
       "      <td>-0.485173</td>\n",
       "      <td>-0.098500</td>\n",
       "      <td>2.323293</td>\n",
       "      <td>-0.139202</td>\n",
       "      <td>-0.953250</td>\n",
       "      <td>0.084661</td>\n",
       "      <td>-0.566577</td>\n",
       "      <td>1.427840</td>\n",
       "      <td>...</td>\n",
       "      <td>-0.505524</td>\n",
       "      <td>-0.220607</td>\n",
       "      <td>-0.871845</td>\n",
       "      <td>0.654495</td>\n",
       "      <td>0.430631</td>\n",
       "      <td>-0.444470</td>\n",
       "      <td>-0.118851</td>\n",
       "      <td>0.471334</td>\n",
       "      <td>-0.078149</td>\n",
       "      <td>-0.566577</td>\n",
       "    </tr>\n",
       "  </tbody>\n",
       "</table>\n",
       "<p>2250 rows × 1201 columns</p>\n",
       "</div>"
      ],
      "text/plain": [
       "        id       f_0       f_1       f_2       f_3       f_4       f_5  \\\n",
       "0        1 -3.388242  0.868285 -0.427619 -0.678964 -1.625735  0.262761   \n",
       "1        2 -0.496920  0.952381  0.989040  0.451422  0.513516 -0.099658   \n",
       "2        3  1.128369 -0.537951  2.544358  1.165254 -1.904994  0.776961   \n",
       "3        4  0.051253  1.746814  0.681177  1.844524 -0.327977  1.226839   \n",
       "4        5  1.423209 -0.983594 -1.694170  1.197507  1.044211  0.518777   \n",
       "...    ...       ...       ...       ...       ...       ...       ...   \n",
       "2245  2246  0.889888 -0.319077  0.849589  0.822723  0.876455  0.325704   \n",
       "2246  2247  1.005737 -0.064755  1.163494  1.163494  1.163494  0.724028   \n",
       "2247  2248  1.252086  1.223561  0.153859 -0.987156  0.239435 -0.003031   \n",
       "2248  2249  1.042624 -0.129166  1.066538  1.030667  1.162195  0.707827   \n",
       "2249  2250 -1.319572 -0.485173 -0.098500  2.323293 -0.139202 -0.953250   \n",
       "\n",
       "           f_6       f_7       f_8  ...    f_1190    f_1191    f_1192  \\\n",
       "0     1.243040  1.537751 -0.352028  ... -0.776403 -0.662884 -0.257091   \n",
       "1    -1.124326  0.729430 -0.216224  ...  0.379635 -1.760084  1.125450   \n",
       "2    -0.495768  0.060111 -1.418468  ...  1.165254 -1.373589 -0.483701   \n",
       "3    -0.085519  0.379008 -1.003667  ... -0.442288 -2.794472 -0.763468   \n",
       "4    -0.298612 -0.365174  0.738447  ... -2.624450 -3.200223  0.711422   \n",
       "...        ...       ...       ...  ...       ...       ...       ...   \n",
       "2245  0.876455 -0.910127  0.889888  ...  0.889888 -2.226556 -0.090717   \n",
       "2246  0.712760 -0.785929 -1.225394  ...  1.163494 -1.270468 -0.932417   \n",
       "2247 -1.158309  1.237823 -1.272410  ...  0.581740 -1.386512  0.809943   \n",
       "2248 -1.396612  0.014319 -1.025944  ...  1.078495 -1.193343  0.086061   \n",
       "2249  0.084661 -0.566577  1.427840  ... -0.505524 -0.220607 -0.871845   \n",
       "\n",
       "        f_1193    f_1194    f_1195    f_1196    f_1197    f_1198    f_1199  \n",
       "0    -1.168413  0.223260 -0.482520 -0.085453 -0.382265 -0.539349 -1.682404  \n",
       "1    -0.328047 -0.880305 -1.257607  0.964312  2.021104  0.655021 -0.423029  \n",
       "2    -0.964782 -0.869555  0.066040 -0.444567 -0.531935 -0.878660  1.099488  \n",
       "3    -0.789832 -0.113209 -2.703150 -2.058728  1.070627 -0.458045 -0.435825  \n",
       "4    -0.190394  0.337224 -1.656639  0.707360 -0.562290  1.471181 -0.192000  \n",
       "...        ...       ...       ...       ...       ...       ...       ...  \n",
       "2245 -1.393713 -0.896694 -0.399675 -0.856395  0.876455  0.863022 -0.601169  \n",
       "2246 -1.169053 -0.008414 -0.605636 -0.323927  1.163494 -1.315541  0.047928  \n",
       "2247 -1.243885  0.153859 -0.630589  1.594391  1.252086 -1.429300  1.408976  \n",
       "2248 -0.081338 -0.978116 -0.368307 -0.129166  1.090452 -1.444440  0.468686  \n",
       "2249  0.654495  0.430631 -0.444470 -0.118851  0.471334 -0.078149 -0.566577  \n",
       "\n",
       "[2250 rows x 1201 columns]"
      ]
     },
     "execution_count": 55,
     "metadata": {},
     "output_type": "execute_result"
    }
   ],
   "source": [
    "testloc = '/Users/suyashk11/Desktop/VLG_Project/test.csv'\n",
    "test = pd.read_csv(testloc)\n",
    "test"
   ]
  },
  {
   "cell_type": "code",
   "execution_count": 56,
   "id": "d2b43038",
   "metadata": {},
   "outputs": [
    {
     "data": {
      "text/plain": [
       "array([[[[-3.38824193e+00,  8.68284876e-01, -4.27619291e-01, ...,\n",
       "          -1.29119790e+00, -1.39882245e+00, -5.25272165e-01],\n",
       "         [-1.52564978e-01,  1.21368272e+00, -4.02020655e-01, ...,\n",
       "           2.55732784e-01, -1.70922068e+00, -5.49284355e-01],\n",
       "         [ 2.06688956e+00,  3.88765425e-01, -1.44693710e-01, ...,\n",
       "           1.03884955e+00, -1.52987185e-01,  2.81214993e-01],\n",
       "         ...,\n",
       "         [-5.62406692e-02,  1.21702539e+00, -7.13128182e-01, ...,\n",
       "           2.20709080e-01, -4.27619291e-01, -2.50925502e+00],\n",
       "         [-1.07770342e+00, -1.67094553e+00, -3.05441395e-01, ...,\n",
       "          -2.33071896e+00,  1.55156949e-02, -1.68456762e+00],\n",
       "         [ 6.48868176e-01,  3.05437991e-01,  8.17039366e-01, ...,\n",
       "          -1.77458673e+00, -4.42737526e-01,  1.01864919e+00]],\n",
       "\n",
       "        [[ 2.73451191e+00,  3.54779318e-01,  6.31403327e-01, ...,\n",
       "          -2.83163622e-01,  2.57552217e+00, -6.85827706e-01],\n",
       "         [-1.49849079e-01, -2.78531117e+00,  7.51114261e-01, ...,\n",
       "          -2.32237641e-01,  1.47566275e+00, -1.15329459e+00],\n",
       "         [ 6.26022646e-02,  1.04144083e+00,  1.20432864e-01, ...,\n",
       "           1.85239817e+00,  1.84050693e+00, -4.12501055e-01],\n",
       "         ...,\n",
       "         [-5.24932901e-01, -6.59108981e-01,  1.45610880e-01, ...,\n",
       "          -1.56378167e+00,  2.94706510e-01,  1.22193564e+00],\n",
       "         [-4.35334712e-01, -3.97382820e-01, -6.39274587e-01, ...,\n",
       "          -2.84123193e-01,  2.02795012e-01,  3.57849770e-01],\n",
       "         [ 6.61718459e-01, -1.18569282e+00, -1.38006813e+00, ...,\n",
       "          -5.37286361e-02, -1.10793989e+00,  1.32872328e-01]],\n",
       "\n",
       "        [[ 7.25620222e-01, -2.70575957e-01, -1.03234871e+00, ...,\n",
       "           9.08380748e-01,  1.77197464e+00, -2.22711820e+00],\n",
       "         [-1.74064549e+00, -1.02613495e+00,  1.01518951e-01, ...,\n",
       "           1.25652530e+00,  9.42612383e-02, -3.56244596e-01],\n",
       "         [-1.88354890e+00,  3.86790333e-01,  4.34045143e-01, ...,\n",
       "           1.64973433e+00, -9.58884042e-01,  2.00037592e+00],\n",
       "         ...,\n",
       "         [-4.27619291e-01,  1.16866459e+00, -1.17932399e-02, ...,\n",
       "          -9.43024071e-02,  2.39312193e+00, -6.51762538e-01],\n",
       "         [ 4.95088508e-01, -4.27619291e-01, -6.27708204e-02, ...,\n",
       "          -5.90969672e-01,  6.95363415e-01, -3.82264584e-01],\n",
       "         [ 2.32640871e+00,  7.52675417e-01, -1.07770342e+00, ...,\n",
       "          -3.82264584e-01, -5.39348794e-01, -1.68240411e+00]]],\n",
       "\n",
       "\n",
       "       [[[-4.96919554e-01,  9.52381366e-01,  9.89040040e-01, ...,\n",
       "           5.95771891e-01,  8.96765511e-02,  2.80645503e-01],\n",
       "         [ 8.92056540e-01,  9.43429338e-01, -8.94979562e-01, ...,\n",
       "          -3.64007658e-01,  7.28572743e-01, -5.41124452e-01],\n",
       "         [ 1.17615817e-01, -1.05357979e+00, -3.73406086e-03, ...,\n",
       "          -1.49844937e-01, -8.21212722e-01, -1.39403300e+00],\n",
       "         ...,\n",
       "         [-1.19704126e+00, -5.23473205e-01, -4.47673257e-02, ...,\n",
       "          -3.46203668e+00,  1.41119622e+00,  9.19881825e-01],\n",
       "         [ 8.40683741e-01,  8.55195199e-01, -2.38717026e-01, ...,\n",
       "           4.65100476e-01,  2.37053358e-01, -7.69740529e-01],\n",
       "         [-2.83807606e-01, -2.63831429e-01,  4.46405365e-01, ...,\n",
       "           1.88032014e-01, -8.26139288e-01, -9.48577643e-01]],\n",
       "\n",
       "        [[ 1.23994848e+00, -2.57762744e+00,  2.82622502e-02, ...,\n",
       "           9.43429338e-01, -1.32507219e+00,  7.78840603e-01],\n",
       "         [ 6.85065934e-01,  9.17742939e-01, -6.79244928e-01, ...,\n",
       "           2.81791365e-02, -7.31166005e-01, -5.41630515e-02],\n",
       "         [-7.68885481e-01, -7.14777036e-01, -1.18601412e+00, ...,\n",
       "           1.63744443e+00, -5.75454895e-01,  9.69115737e-01],\n",
       "         ...,\n",
       "         [ 7.72434018e-01, -4.89235278e-01, -1.72795619e+00, ...,\n",
       "          -1.25464823e+00, -1.11483727e+00, -1.66374019e+00],\n",
       "         [-1.31219103e+00,  1.58016694e+00,  1.41670197e+00, ...,\n",
       "           2.78679064e+00, -5.07373207e-01, -2.40630224e-01],\n",
       "         [ 1.00090360e+00,  5.66434025e-02, -1.76648579e+00, ...,\n",
       "           8.02154142e-01,  1.34605493e+00,  8.85737855e-01]],\n",
       "\n",
       "        [[ 8.92056540e-01,  5.88297329e-02, -4.82180810e-01, ...,\n",
       "          -6.88518181e-02,  8.53526941e-01,  1.14770028e-01],\n",
       "         [ 9.20142480e-01, -3.33658518e-01, -7.61065575e-02, ...,\n",
       "          -1.42669514e+00,  1.96279187e+00, -1.06009303e-01],\n",
       "         [ 4.31509253e-02,  8.51730208e-02,  1.89750230e+00, ...,\n",
       "           4.29263756e-01,  8.28825266e-01,  8.79213340e-01],\n",
       "         ...,\n",
       "         [ 6.04597094e-01, -7.49402953e-01, -1.71533531e-01, ...,\n",
       "           3.80719640e-02, -1.56206048e+00, -1.50522468e-01],\n",
       "         [ 8.57636843e-01, -2.75783834e+00,  8.40683741e-01, ...,\n",
       "          -2.38145029e-01,  9.26728097e-02,  8.10477196e-01],\n",
       "         [ 7.15753524e-02, -1.29825379e+00,  1.00701369e-01, ...,\n",
       "           2.02110448e+00,  6.55021399e-01, -4.23028924e-01]]],\n",
       "\n",
       "\n",
       "       [[[ 1.12836913e+00, -5.37951203e-01,  2.54435773e+00, ...,\n",
       "           5.38010699e-01,  8.72768763e-01,  1.08027362e+00],\n",
       "         [-7.59365187e-01, -1.02441755e+00, -9.34941212e-01, ...,\n",
       "           1.16028115e-01, -1.04749190e+00, -7.99985901e-01],\n",
       "         [ 2.05472336e+00,  1.66185833e-01, -3.65524725e-01, ...,\n",
       "           1.87951022e-01,  8.16959147e-01, -2.59838914e-01],\n",
       "         ...,\n",
       "         [-2.16169795e+00, -1.09442725e+00,  1.44145304e+00, ...,\n",
       "           3.17155625e-01, -1.19437629e+00, -3.14232603e-01],\n",
       "         [-1.56101497e-01, -4.02854646e-01, -3.81230268e-01, ...,\n",
       "          -1.26904814e+00,  1.96598001e-01,  9.07802369e-01],\n",
       "         [-2.61179825e-02, -2.08315963e-01, -3.30643967e-01, ...,\n",
       "          -1.09811941e+00, -1.20931066e+00, -7.49683302e-01]],\n",
       "\n",
       "        [[ 5.03214633e-01, -4.03652333e-01,  3.17023658e+00, ...,\n",
       "           1.80634193e+00,  6.12682552e-01,  3.59712115e-01],\n",
       "         [ 5.62057185e-01,  1.78472828e+00, -1.93970862e+00, ...,\n",
       "          -2.00871933e+00,  1.16212941e+00,  2.85692625e-01],\n",
       "         [-7.22657579e-01, -7.32372420e-01,  3.00512469e-01, ...,\n",
       "          -7.29577201e-01, -6.99802180e-01,  6.10142748e-01],\n",
       "         ...,\n",
       "         [ 1.09188403e+00, -2.12113937e-01, -8.82994623e-01, ...,\n",
       "           2.19492258e+00,  5.97748181e-01,  3.80305850e-01],\n",
       "         [-1.27042421e+00, -8.09024868e-01, -9.84690446e-01, ...,\n",
       "           1.08651905e-01,  5.89304022e-01, -1.59658021e+00],\n",
       "         [-1.28398251e+00,  9.82198559e-01,  6.25089553e-01, ...,\n",
       "           5.98135472e-01, -8.04782502e-01, -1.44826058e+00]],\n",
       "\n",
       "        [[ 9.86041816e-01, -5.26589279e-01, -1.20931066e+00, ...,\n",
       "           1.27418762e+00, -1.04020933e+00, -2.24933057e+00],\n",
       "         [ 4.78273217e-01, -3.20454142e-01,  1.81706516e-01, ...,\n",
       "           7.28552155e-01,  1.06071367e+00, -6.86607686e-01],\n",
       "         [ 4.70491071e-01, -2.88835512e+00, -7.93135354e-02, ...,\n",
       "          -2.59257595e-01, -9.09359821e-01,  1.16525426e+00],\n",
       "         ...,\n",
       "         [ 1.16525426e+00,  3.50823657e-02, -5.94016141e-01, ...,\n",
       "           2.78421190e-01, -1.18950023e+00,  5.71368103e-01],\n",
       "         [-2.29004657e-01, -1.27432368e+00, -2.14072920e-01, ...,\n",
       "          -1.24289902e+00, -9.66042921e-01,  7.13748241e-01],\n",
       "         [-2.96591364e-01, -1.40345747e+00, -2.43836825e+00, ...,\n",
       "          -5.31934597e-01, -8.78660047e-01,  1.09948785e+00]]],\n",
       "\n",
       "\n",
       "       ...,\n",
       "\n",
       "\n",
       "       [[[ 1.25208597e+00,  1.22356059e+00,  1.53858777e-01, ...,\n",
       "           1.08093368e+00,  6.53052957e-01, -8.44529582e-01],\n",
       "         [ 5.81739503e-01, -3.03082180e-03, -1.18683416e+00, ...,\n",
       "          -1.25814762e+00,  3.97572507e-02, -1.05846994e+00],\n",
       "         [ 1.58012786e+00,  1.16650983e+00, -9.44368418e-01, ...,\n",
       "          -1.07273264e+00,  1.03814561e+00, -1.32946107e+00],\n",
       "         ...,\n",
       "         [-2.74021948e-01,  1.38045019e+00, -4.73699620e-01, ...,\n",
       "          -1.25814762e+00,  1.28061135e+00, -9.72893799e-01],\n",
       "         [-1.42929991e+00,  1.58012786e+00, -1.37224914e+00, ...,\n",
       "           9.68080141e-02, -2.02708494e-01,  1.29487405e+00],\n",
       "         [-8.16004200e-01,  1.00962023e+00,  9.81094847e-01, ...,\n",
       "          -1.37224914e+00, -1.02994456e+00, -1.30093569e+00]],\n",
       "\n",
       "        [[-1.17257147e+00,  1.53733979e+00,  1.16650983e+00, ...,\n",
       "           1.96646850e-01,  5.96002194e-01,  1.83685630e+00],\n",
       "         [-3.16810020e-01, -1.41503722e+00, -1.30093569e+00, ...,\n",
       "          -9.87156490e-01,  7.24366411e-01, -1.38651183e+00],\n",
       "         [-1.74183112e-01,  1.10945906e+00, -1.30093569e+00, ...,\n",
       "           8.09942556e-01,  1.56586517e+00,  9.95357537e-01],\n",
       "         ...,\n",
       "         [-8.87317654e-01,  2.67960304e-01, -1.12978340e+00, ...,\n",
       "           3.82061831e-01,  5.96002194e-01, -1.41503722e+00],\n",
       "         [ 1.67996670e+00,  1.26634866e+00, -1.38651183e+00, ...,\n",
       "           5.38951430e-01,  1.96646850e-01, -1.25814762e+00],\n",
       "         [-1.41503722e+00, -1.27241031e+00, -1.05846994e+00, ...,\n",
       "           1.58012786e+00,  1.25333396e-01, -1.41503722e+00]],\n",
       "\n",
       "        [[ 1.29487405e+00,  1.08093368e+00, -6.44851910e-01, ...,\n",
       "          -1.20109685e+00,  9.95357537e-01, -5.16487692e-01],\n",
       "         [ 5.81739503e-01,  6.53052957e-01,  1.28061135e+00, ...,\n",
       "           1.08093368e+00,  9.38306774e-01,  9.68080141e-02],\n",
       "         [ 9.66832156e-01,  1.26634866e+00, -1.11552071e+00, ...,\n",
       "           5.38951430e-01,  5.40199416e-02,  9.68080141e-02],\n",
       "         ...,\n",
       "         [ 1.32339943e+00, -5.02225001e-01, -1.30093569e+00, ...,\n",
       "          -1.21535954e+00,  9.38306774e-01, -1.37224914e+00],\n",
       "         [ 5.81739503e-01, -8.01741509e-01,  1.26634866e+00, ...,\n",
       "           1.40897557e+00,  9.24044083e-01,  1.25208597e+00],\n",
       "         [ 5.38951430e-01, -3.15562035e-02, -1.42929991e+00, ...,\n",
       "           1.25208597e+00, -1.42929991e+00,  1.40897557e+00]]],\n",
       "\n",
       "\n",
       "       [[[ 1.04262410e+00, -1.29165938e-01,  1.06653819e+00, ...,\n",
       "           4.68686124e-01, -1.33682710e+00, -1.33682710e+00],\n",
       "         [ 1.12632339e+00,  1.16219452e+00,  8.15440321e-01, ...,\n",
       "          -1.06181516e+00,  1.15023748e+00, -1.88951144e-01],\n",
       "         [-1.05251856e-01, -2.84607474e-01, -1.02594403e+00, ...,\n",
       "           4.92600207e-01,  3.13244588e-01, -1.09768628e+00],\n",
       "         ...,\n",
       "         [-8.58545454e-01,  8.27397362e-01, -1.85097988e+00, ...,\n",
       "          -1.87489396e+00, -1.02594403e+00,  3.49115712e-01],\n",
       "         [ 9.23053692e-01,  1.13828043e+00, -9.30287702e-01, ...,\n",
       "          -1.30095598e+00, -4.40049011e-01,  9.70881857e-01],\n",
       "         [-1.88685100e+00, -9.32948143e-02, -7.38975042e-01, ...,\n",
       "          -1.12160036e+00,  2.17588258e-01, -1.62379609e+00]],\n",
       "\n",
       "        [[-1.79119467e+00,  1.07849523e+00,  2.17588258e-01, ...,\n",
       "           1.16219452e+00,  6.21467219e-02,  6.24127661e-01],\n",
       "         [-8.46588413e-01,  1.16219452e+00,  1.12632339e+00, ...,\n",
       "          -7.27018001e-01, -1.76994103e-01,  9.70881857e-01],\n",
       "         [-9.59552560e-03,  1.12632339e+00, -1.65966722e+00, ...,\n",
       "           4.56729083e-01,  5.64342454e-01,  1.05458115e+00],\n",
       "         ...,\n",
       "         [-4.28091969e-01,  9.70881857e-01, -1.39661231e+00, ...,\n",
       "          -3.32435639e-01, -3.56349722e-01, -1.15747149e+00],\n",
       "         [ 1.09974887e-01,  1.10240931e+00,  1.16219452e+00, ...,\n",
       "          -1.24117077e+00,  1.11436635e+00, -9.32948143e-02],\n",
       "         [-1.58792497e+00,  3.96943877e-01, -1.40856935e+00, ...,\n",
       "           8.75225527e-01, -1.79119467e+00, -1.51618272e+00]],\n",
       "\n",
       "        [[ 1.16219452e+00,  2.41502341e-01, -1.04985811e+00, ...,\n",
       "          -1.13355740e+00,  1.03066706e+00,  3.13244588e-01],\n",
       "         [ 3.96943877e-01,  5.64342454e-01, -2.12865227e-01, ...,\n",
       "           8.39354403e-01,  8.99139609e-01,  4.56729083e-01],\n",
       "         [-1.27704190e+00,  1.16219452e+00, -1.88685100e+00, ...,\n",
       "           1.10240931e+00,  1.13828043e+00,  8.03483279e-01],\n",
       "         ...,\n",
       "         [ 8.75225527e-01,  6.95869908e-01,  1.09045227e+00, ...,\n",
       "          -3.80263804e-01,  1.13828043e+00, -1.21725669e+00],\n",
       "         [ 1.16219452e+00, -1.30095598e+00,  1.10240931e+00, ...,\n",
       "           6.21467219e-02, -1.14551444e+00,  1.16219452e+00],\n",
       "         [-1.10964332e+00, -1.20529965e+00,  9.70881857e-01, ...,\n",
       "           1.09045227e+00, -1.44444048e+00,  4.68686124e-01]]],\n",
       "\n",
       "\n",
       "       [[[-1.31957188e+00, -4.85172635e-01, -9.84998135e-02, ...,\n",
       "           1.05012198e-01, -1.70950090e-02, -4.64821434e-01],\n",
       "         [ 1.66065801e-01, -5.77974112e-02,  1.99767390e+00, ...,\n",
       "           3.25619218e-03, -7.81486124e-02, -2.05221512e+00],\n",
       "         [ 1.48889387e+00, -2.40958221e-01,  1.61100108e+00, ...,\n",
       "          -1.13641107e+00, -3.83416629e-01,  3.25619218e-03],\n",
       "         ...,\n",
       "         [-9.84998135e-02, -6.47982244e-01,  3.25619218e-03, ...,\n",
       "           1.66065801e-01,  2.47470606e-01, -1.59553417e-01],\n",
       "         [ 3.25619218e-03,  1.48889387e+00, -5.77974112e-02, ...,\n",
       "           8.46609967e-02, -8.31143054e-01, -1.59553417e-01],\n",
       "         [ 1.40748907e+00,  5.93441025e-01,  2.36073933e-02, ...,\n",
       "           8.37655439e-01,  1.32608427e+00, -8.71845457e-01]],\n",
       "\n",
       "        [[-3.74462101e-02,  3.89929014e-01, -2.40958221e-01, ...,\n",
       "           1.50924508e+00, -1.66554230e+00,  3.89929014e-01],\n",
       "         [ 1.87556670e+00,  2.03837631e+00,  2.07907871e+00, ...,\n",
       "           8.46609967e-02,  3.25619218e-03,  2.36073933e-02],\n",
       "         [-5.25875037e-01, -7.81486124e-02, -8.71845457e-01, ...,\n",
       "          -8.51494255e-01,  2.18083471e+00,  1.54994748e+00],\n",
       "         ...,\n",
       "         [ 2.34364432e+00,  6.43097956e-02, -2.09291752e+00, ...,\n",
       "          -3.74462101e-02, -1.66554230e+00, -1.42132789e+00],\n",
       "         [ 1.85521550e+00,  2.47470606e-01,  2.36073933e-02, ...,\n",
       "          -5.66577440e-01, -5.77974112e-02,  7.15548232e-01],\n",
       "         [-1.70950090e-02,  1.45714600e-01, -2.05221512e+00, ...,\n",
       "          -8.10791853e-01, -1.74694711e+00, -1.70950090e-02]],\n",
       "\n",
       "        [[-1.76729831e+00, -2.61309423e-01, -1.39202216e-01, ...,\n",
       "           2.18083471e+00,  1.66065801e-01, -9.73601462e-01],\n",
       "         [-1.59553417e-01, -4.64821434e-01, -9.84998135e-02, ...,\n",
       "          -2.61309423e-01,  1.45714600e-01,  6.95197031e-01],\n",
       "         [ 1.25363399e-01, -1.33992308e+00,  5.52738623e-01, ...,\n",
       "           6.43097956e-02, -1.39202216e-01,  2.24188832e+00],\n",
       "         ...,\n",
       "         [ 9.80113847e-01, -1.39202216e-01,  2.38434672e+00, ...,\n",
       "           1.26503066e+00, -7.09035848e-01,  1.06151865e+00],\n",
       "         [-5.05523836e-01, -1.93010792e+00,  2.47470606e-01, ...,\n",
       "          -9.73601462e-01, -9.84998135e-02, -1.36027428e+00],\n",
       "         [-5.66577440e-01, -2.01151272e+00,  3.25619218e-03, ...,\n",
       "           4.71333818e-01, -7.81486124e-02, -5.66577440e-01]]]])"
      ]
     },
     "execution_count": 56,
     "metadata": {},
     "output_type": "execute_result"
    }
   ],
   "source": [
    "test1 = test.drop(columns=['id'])\n",
    "test_fin = test1.values.reshape(len(test1),3,20,20).astype(float)\n",
    "test_fin"
   ]
  },
  {
   "cell_type": "code",
   "execution_count": 57,
   "id": "4c401537",
   "metadata": {},
   "outputs": [
    {
     "data": {
      "text/plain": [
       "tensor([0, 0, 0,  ..., 0, 0, 0])"
      ]
     },
     "execution_count": 57,
     "metadata": {},
     "output_type": "execute_result"
    }
   ],
   "source": [
    "result = torch.argmax(net(torch.from_numpy(test_fin).float()),axis=1)\n",
    "result"
   ]
  },
  {
   "cell_type": "markdown",
   "id": "255b7c50",
   "metadata": {},
   "source": [
    "# Result"
   ]
  },
  {
   "cell_type": "code",
   "execution_count": 58,
   "id": "1974674b",
   "metadata": {},
   "outputs": [
    {
     "data": {
      "text/html": [
       "<div>\n",
       "<style scoped>\n",
       "    .dataframe tbody tr th:only-of-type {\n",
       "        vertical-align: middle;\n",
       "    }\n",
       "\n",
       "    .dataframe tbody tr th {\n",
       "        vertical-align: top;\n",
       "    }\n",
       "\n",
       "    .dataframe thead th {\n",
       "        text-align: right;\n",
       "    }\n",
       "</style>\n",
       "<table border=\"1\" class=\"dataframe\">\n",
       "  <thead>\n",
       "    <tr style=\"text-align: right;\">\n",
       "      <th></th>\n",
       "      <th>labels</th>\n",
       "    </tr>\n",
       "    <tr>\n",
       "      <th>id</th>\n",
       "      <th></th>\n",
       "    </tr>\n",
       "  </thead>\n",
       "  <tbody>\n",
       "    <tr>\n",
       "      <th>1</th>\n",
       "      <td>0</td>\n",
       "    </tr>\n",
       "    <tr>\n",
       "      <th>2</th>\n",
       "      <td>0</td>\n",
       "    </tr>\n",
       "    <tr>\n",
       "      <th>3</th>\n",
       "      <td>0</td>\n",
       "    </tr>\n",
       "    <tr>\n",
       "      <th>4</th>\n",
       "      <td>0</td>\n",
       "    </tr>\n",
       "    <tr>\n",
       "      <th>5</th>\n",
       "      <td>0</td>\n",
       "    </tr>\n",
       "    <tr>\n",
       "      <th>...</th>\n",
       "      <td>...</td>\n",
       "    </tr>\n",
       "    <tr>\n",
       "      <th>2246</th>\n",
       "      <td>0</td>\n",
       "    </tr>\n",
       "    <tr>\n",
       "      <th>2247</th>\n",
       "      <td>0</td>\n",
       "    </tr>\n",
       "    <tr>\n",
       "      <th>2248</th>\n",
       "      <td>0</td>\n",
       "    </tr>\n",
       "    <tr>\n",
       "      <th>2249</th>\n",
       "      <td>0</td>\n",
       "    </tr>\n",
       "    <tr>\n",
       "      <th>2250</th>\n",
       "      <td>0</td>\n",
       "    </tr>\n",
       "  </tbody>\n",
       "</table>\n",
       "<p>2250 rows × 1 columns</p>\n",
       "</div>"
      ],
      "text/plain": [
       "      labels\n",
       "id          \n",
       "1          0\n",
       "2          0\n",
       "3          0\n",
       "4          0\n",
       "5          0\n",
       "...      ...\n",
       "2246       0\n",
       "2247       0\n",
       "2248       0\n",
       "2249       0\n",
       "2250       0\n",
       "\n",
       "[2250 rows x 1 columns]"
      ]
     },
     "execution_count": 58,
     "metadata": {},
     "output_type": "execute_result"
    }
   ],
   "source": [
    "result_df = pd.DataFrame(result.numpy(), columns = ['labels'])\n",
    "result_df['id']=np.arange(1,len(result_df['labels'])+1,1)\n",
    "final_pred = result_df.set_index('id')\n",
    "final_pred"
   ]
  },
  {
   "cell_type": "code",
   "execution_count": 59,
   "id": "16f19cf3",
   "metadata": {},
   "outputs": [],
   "source": [
    "final_pred.to_csv('/Users/suyashk11/Desktop/VLG_Project/cnnmodel_pred.csv')"
   ]
  },
  {
   "cell_type": "markdown",
   "id": "10783bc3",
   "metadata": {},
   "source": [
    "# Observations:\n",
    "\n",
    "Graph of epoch vs loss is drawn in above cell\n",
    "* Net1 : \n",
    "Net(\n",
    "  (conv1): Conv2d(3, 6, kernel_size=(3, 3), stride=(1, 1))\n",
    "  (pool): MaxPool2d(kernel_size=2, stride=2, padding=0, dilation=1, ceil_mode=False)\n",
    "  (conv2): Conv2d(6, 12, kernel_size=(4, 4), stride=(1, 1))\n",
    "  (hl1): Linear(in_features=432, out_features=243, bias=True)\n",
    "  (hl2): Linear(in_features=243, out_features=2, bias=True)\n",
    ")\n",
    "\n",
    "hyperparameters : lr = 0.001 , epochs = 20 , batch_size = 64\n",
    "average loss : 0.319\n",
    "\n",
    "lr = 0.002 ==> loss = 0.324\n",
    "\n",
    "lr = 0.003 ==> loss = 0.341\n",
    "\n",
    "lr = 0.0005 ==> loss = 0.318\n",
    "\n",
    "lr = 0.00013 ==> loss = 0.319\n",
    "\n",
    "lr = 0.0001 ==> loss = 0.314\n",
    "\n",
    "lr = 0.00007 ==> loss = 0.317\n",
    "\n",
    "lr = 0.00025 ==> loss=0.343\n",
    "\n",
    "lr = 0.0001 fixed : epochs=30 ==> loss = 0.313\n",
    "\n",
    "batch size = 32 , lr =0.0001 , epochs = 20 ==> loss= 0.327\n",
    "\n",
    "batch size = 32 , lr =0.0001 , epochs = 30 ==> loss= 0.321\n",
    "\n",
    "batch_size = 128 ,lr=0.0001 , epochs = 30 , ==> loss = 0.326\n",
    "\n",
    "best result : batchsize 64 , lr 0.0001 , epochs 30 \n",
    "\n",
    "* Net2 :\n",
    "Net(\n",
    "  (conv1): Conv2d(3, 6, kernel_size=(3, 3), stride=(1, 1))\n",
    "  (pool): MaxPool2d(kernel_size=2, stride=2, padding=0, dilation=1, ceil_mode=False)\n",
    "  (conv2): Conv2d(6, 12, kernel_size=(4, 4), stride=(1, 1))\n",
    "  (hl1): Linear(in_features=432, out_features=243, bias=True)\n",
    "  (hl2): Linear(in_features=243, out_features=122, bias=True)\n",
    "  (hl3): Linear(in_features=122, out_features=2, bias=True)\n",
    ")\n",
    "\n",
    "hyperparameters :batch_size= 64 , lr= 0.0001 , epochs= 30 \n",
    "\n",
    "loss ==> 0.314\n",
    "\n",
    "* Net3 :\n",
    "Net(\n",
    "  (conv1): Conv2d(3, 6, kernel_size=(3, 3), stride=(1, 1))\n",
    "  (pool): MaxPool2d(kernel_size=2, stride=2, padding=0, dilation=1, ceil_mode=False)\n",
    "  (conv2): Conv2d(6, 12, kernel_size=(4, 4), stride=(1, 1))\n",
    "  (hl1): Linear(in_features=432, out_features=243, bias=True)\n",
    "  (hl2): Linear(in_features=243, out_features=122, bias=True)\n",
    "  (hl3): Linear(in_features=122, out_features=61, bias=True)\n",
    "  (hl4): Linear(in_features=61, out_features=2, bias=True)\n",
    ")\n",
    "\n",
    "hyperparameters :batch_size= 64 , lr= 0.0001 , epochs= 30 \n",
    "\n",
    "loss ==> 0.313\n",
    "\n",
    "* RestNet50 loss = 7.786 (too high)\n",
    "\n",
    " Image was resized to 224 x 224 x 3 but Kernel died everytime I tried to that. So, used it on 20x20x3 images but yielded really high loss.\n",
    "\n",
    "\n",
    "* Net4 :\n",
    "Net(\n",
    "  (conv1): Conv2d(3, 6, kernel_size=(3, 3), stride=(1, 1))\n",
    "  (pool): MaxPool2d(kernel_size=2, stride=2, padding=0, dilation=1, ceil_mode=False)\n",
    "  (conv2): Conv2d(6, 12, kernel_size=(3, 3), stride=(1, 1))\n",
    "  (hl1): Linear(in_features=588, out_features=243, bias=True)\n",
    "  (hl2): Linear(in_features=243, out_features=122, bias=True)\n",
    "  (hl3): Linear(in_features=122, out_features=61, bias=True)\n",
    "  (hl4): Linear(in_features=61, out_features=2, bias=True)\n",
    ")\n",
    "hyperparameters : batch_size = 64 , epochs = 30 , lr = 0.0001 ==> loss = 0.313\n",
    "lr = 0.00015 ==> loss = 0.314\n",
    "lr = 0.00007 ==> loss = 0.315\n",
    "\n",
    "* Net5 :\n",
    "Net(\n",
    "  (conv1): Conv2d(3, 6, kernel_size=(3, 3), stride=(1, 1))\n",
    "  (pool): MaxPool2d(kernel_size=2, stride=2, padding=0, dilation=1, ceil_mode=False)\n",
    "  (conv2): Conv2d(6, 12, kernel_size=(3, 3), stride=(1, 1), padding=(1, 1))\n",
    "  (hl1): Linear(in_features=972, out_features=243, bias=True)\n",
    "  (hl2): Linear(in_features=243, out_features=122, bias=True)\n",
    "  (hl3): Linear(in_features=122, out_features=61, bias=True)\n",
    "  (hl4): Linear(in_features=61, out_features=2, bias=True)\n",
    ")\n",
    "hyperparameters : batch_size = 64 , epochs = 30 , lr = 0.0001 ==> loss = 0.312 (Best Result till now)"
   ]
  }
 ],
 "metadata": {
  "kernelspec": {
   "display_name": "Python 3 (ipykernel)",
   "language": "python",
   "name": "python3"
  },
  "language_info": {
   "codemirror_mode": {
    "name": "ipython",
    "version": 3
   },
   "file_extension": ".py",
   "mimetype": "text/x-python",
   "name": "python",
   "nbconvert_exporter": "python",
   "pygments_lexer": "ipython3",
   "version": "3.11.3"
  }
 },
 "nbformat": 4,
 "nbformat_minor": 5
}
